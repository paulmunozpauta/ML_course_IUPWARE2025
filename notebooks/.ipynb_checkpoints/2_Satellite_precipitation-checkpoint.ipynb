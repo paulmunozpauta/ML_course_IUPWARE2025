{
 "cells": [
  {
   "cell_type": "markdown",
   "metadata": {},
   "source": [
    "<div style=\"text-align:center;\">\n",
    "    <img style=\"width: 30%;\" src=\"static/imgs/Logo_course.png\">\n",
    "    <p style=\"margin-top:10px;\">paul.andres.munoz@gmail.com<br>paul.munoz@vub.be</p>\n",
    "</div>"
   ]
  },
  {
   "cell_type": "markdown",
   "metadata": {},
   "source": [
    "# Part 2: Download and processing of satellite precipitation data"
   ]
  },
  {
   "cell_type": "markdown",
   "metadata": {},
   "source": [
    "In this session, we will:\n",
    "\n",
    "- Access PERSIANN and IMERG data repositories\n",
    "- Download satellite precipitation images\n",
    "- Open and georeference satellite precipitation images\n",
    "- Data manipulation and information generation\n",
    "- Visualization"
   ]
  },
  {
   "cell_type": "markdown",
   "metadata": {},
   "source": [
    "# Software for accessing free satellite data repositories"
   ]
  },
  {
   "cell_type": "markdown",
   "metadata": {},
   "source": [
    "<div style=\"text-align:center;\"><img style=\"width: 100%;\" src=\"static/imgs/FileZilla_download.png\"></div>"
   ]
  },
  {
   "cell_type": "markdown",
   "metadata": {},
   "source": [
    "## Start FileZilla"
   ]
  },
  {
   "cell_type": "markdown",
   "metadata": {},
   "source": [
    "<div style=\"text-align:center;\"><img style=\"width: 100%;\" src=\"static/imgs/FileZilla.png\"></div>"
   ]
  },
  {
   "cell_type": "markdown",
   "metadata": {},
   "source": [
    "# PERSIANN Data Source"
   ]
  },
  {
   "cell_type": "markdown",
   "metadata": {},
   "source": [
    "<div style=\"text-align:center;\"><img style=\"width: 100%;\" src=\"static/imgs/PERSIANN_head.png\"></div>"
   ]
  },
  {
   "cell_type": "markdown",
   "metadata": {},
   "source": [
    "Website: http://chrs.web.uci.edu"
   ]
  },
  {
   "cell_type": "markdown",
   "metadata": {},
   "source": [
    "Available Subproducts:\n",
    "- PERSIANN\n",
    "- PERSIANN-CCS\n",
    "- PERSIANN-CDR\n",
    "- PERSIANN-IDR"
   ]
  },
  {
   "cell_type": "markdown",
   "metadata": {},
   "source": [
    "We will focus on the subproduct with the finest spatial/temporal resolution, **PERSIANN-CCS**.\n",
    "\n",
    "**PERSIANN-CCS** uses satellite images to analyze clouds and predict precipitation worldwide. It was developed at the University of California, Irvine.\n",
    "\n",
    "The precipitation estimation principle is highly detailed, analyzing the height of clouds and their coverage area. Unlike other methods, PERSIANN-CCS can identify individual clouds and provide specific information about them. This helps determine how much precipitation is falling in different regions. All this information is available in real time and can be easily downloaded."
   ]
  },
  {
   "cell_type": "markdown",
   "metadata": {},
   "source": [
    "In summary:\n",
    "\n",
    "- **Data Period**: 2003 - present.\n",
    "- **Coverage**: From 60°S to 60°N.\n",
    "- **Resolution**: 0.04° x 0.04°, approximately 4.4 x 4.4 km per pixel.\n",
    "- **Available Data**: Every 1 hour, 3 hours, 6 hours, daily, monthly, annually.\n",
    "- **Latency**: Almost real-time (~2 hours)."
   ]
  },
  {
   "cell_type": "markdown",
   "metadata": {},
   "source": [
    "## Connect to the PERSIANN Data Repository"
   ]
  },
  {
   "cell_type": "markdown",
   "metadata": {},
   "source": [
    "Enter the following information:"
   ]
  },
  {
   "cell_type": "markdown",
   "metadata": {},
   "source": [
    "- **Protocol**: FTP - File Transfer Protocol  \n",
    "- **Host**: persiann.eng.uci.edu  \n",
    "- **Logon Type**: Anonymous  "
   ]
  },
  {
   "cell_type": "markdown",
   "metadata": {},
   "source": [
    "<div style=\"text-align:center;\"><img style=\"width: 60%;\" src=\"static/imgs/FTP_PERSIANN.png\"></div>"
   ]
  },
  {
   "cell_type": "markdown",
   "metadata": {},
   "source": [
    "Upon connecting, you will have remote access to the PERSIANN data folder."
   ]
  },
  {
   "cell_type": "markdown",
   "metadata": {},
   "source": [
    "<div style=\"text-align:center;\"><img style=\"width: 100%;\" src=\"static/imgs/Filezilla_PERSIANN_CCS.png\"></div>"
   ]
  },
  {
   "cell_type": "markdown",
   "metadata": {},
   "source": [
    "## Download Data from the PERSIANN-CCS Repository"
   ]
  },
  {
   "cell_type": "markdown",
   "metadata": {},
   "source": [
    "Click derecho en la carpeta/archivo que queremos descargar en la carpeta local"
   ]
  },
  {
   "cell_type": "markdown",
   "metadata": {},
   "source": [
    "<div style=\"text-align:center;\"><img style=\"width: 100%;\" src=\"static/imgs/Filezilla_local.png\"></div>"
   ]
  },
  {
   "cell_type": "markdown",
   "metadata": {},
   "source": [
    "We now have PERSIANN-CCS precipitation files."
   ]
  },
  {
   "cell_type": "markdown",
   "metadata": {},
   "source": [
    "## Visualize Data on the Platform\n",
    "\n",
    "Access the data visualization platform using the following link:\n",
    "\n",
    "[https://chrsdata.eng.uci.edu](https://chrsdata.eng.uci.edu)"
   ]
  },
  {
   "cell_type": "markdown",
   "metadata": {},
   "source": [
    "## Open a Precipitation File"
   ]
  },
  {
   "cell_type": "markdown",
   "metadata": {},
   "source": [
    "Import the necessary libraries:"
   ]
  },
  {
   "cell_type": "markdown",
   "metadata": {},
   "source": [
    "Ahora cargamos todas las librerías necesarias y ejecutamos una función que luego servirá para definir las fechas:"
   ]
  },
  {
   "cell_type": "code",
   "execution_count": null,
   "metadata": {
    "scrolled": true
   },
   "outputs": [],
   "source": [
    "\n",
    "import gzip\n",
    "import descartes\n",
    "import pickle\n",
    "import numpy as np\n",
    "from shapely.geometry import mapping\n",
    "import geopandas as gpd\n",
    "import os\n",
    "import glob\n",
    "import rasterio\n",
    "import rioxarray\n",
    "import xarray as xr\n",
    "import matplotlib.pyplot as plt\n",
    "from datetime import datetime, timedelta\n",
    "import datetime\n",
    "import calendar\n",
    "#import cartopy.crs as ccrs\n",
    "import pandas as pd\n",
    "from scipy import signal\n",
    "import pickle\n",
    "import h5py\n",
    "#globe_proj = ccrs.PlateCarree()\n",
    "def JulianDate_to_MMDDYYY(y,jd):\n",
    "    month = 1\n",
    "    day = 0\n",
    "    while jd - calendar.monthrange(y,month)[1] > 0 and month <= 12:\n",
    "        jd = jd - calendar.monthrange(y,month)[1]\n",
    "        month = month + 1\n",
    "    return jd, month\n",
    "\n",
    "def getLine(data, line_no):\n",
    "    n = 0\n",
    "    lastPos = -1\n",
    "    for i in range(0, len(data) - 1):\n",
    "        if data[i] == \"\\n\":\n",
    "            n = n + 1\n",
    "            if n == line_no:\n",
    "                return data[lastPos + 1:i]\n",
    "            else:\n",
    "                lastPos = i;\n",
    "\n",
    "    if(n == line_no - 1):\n",
    "        return data[lastPos + 1:]\n",
    "    return \"\""
   ]
  },
  {
   "cell_type": "markdown",
   "metadata": {},
   "source": [
    "Define project folder"
   ]
  },
  {
   "cell_type": "code",
   "execution_count": null,
   "metadata": {},
   "outputs": [],
   "source": [
    "folder = os.getcwd()\n",
    "folder"
   ]
  },
  {
   "cell_type": "code",
   "execution_count": null,
   "metadata": {},
   "outputs": [],
   "source": [
    "folder_files= folder+'/data/PERSIANN-CCS/Hourly/Global/2023/'\n",
    "folder_files"
   ]
  },
  {
   "cell_type": "markdown",
   "metadata": {},
   "source": [
    "Define the name of a file for reading"
   ]
  },
  {
   "cell_type": "code",
   "execution_count": null,
   "metadata": {},
   "outputs": [],
   "source": [
    "item=folder_files+'rgccs1h2301500.bin.gz'\n",
    "item"
   ]
  },
  {
   "cell_type": "markdown",
   "metadata": {},
   "source": [
    "Reading the file"
   ]
  },
  {
   "cell_type": "code",
   "execution_count": null,
   "metadata": {},
   "outputs": [],
   "source": [
    "f = gzip.GzipFile(item)\n",
    "file_content = f.read()\n",
    "data = np.frombuffer(file_content, dtype=np.dtype('>h')).astype(float) \n",
    "data = data.reshape((3000,9000))\n",
    "data_1 = data[:,4500:]\n",
    "data_2 = data[:,:4500]\n",
    "data = np.hstack((data_1,data_2))\n",
    "data= data/100\n",
    "data[data < 0] = np.nan\n",
    "data = np.flipud(data)"
   ]
  },
  {
   "cell_type": "code",
   "execution_count": null,
   "metadata": {},
   "outputs": [],
   "source": [
    "data"
   ]
  },
  {
   "cell_type": "markdown",
   "metadata": {},
   "source": [
    "Georeferencing the data matrix"
   ]
  },
  {
   "cell_type": "code",
   "execution_count": null,
   "metadata": {},
   "outputs": [],
   "source": [
    "lon=np.arange(-180,180,0.04)\n",
    "lat=np.arange(60,-60,-0.04)\n",
    "data = xr.DataArray(data=data, dims=[\"lat\", \"lon\"], coords=[lat,lon])\n",
    "data.rio.set_spatial_dims(x_dim=\"lon\", y_dim=\"lat\", inplace=True)\n",
    "data"
   ]
  },
  {
   "cell_type": "markdown",
   "metadata": {},
   "source": [
    "Plot the georeferenced global precipitation file"
   ]
  },
  {
   "cell_type": "code",
   "execution_count": null,
   "metadata": {
    "scrolled": true
   },
   "outputs": [],
   "source": [
    "world = gpd.read_file(gpd.datasets.get_path('naturalearth_lowres'))\n",
    "world.boundary.plot(figsize=(10, 10), color='white', linewidth=0.5)\n",
    "plt.imshow(data, cmap='cividis', vmin=0.1, vmax=80, extent=[-180, 180, -90, 90])\n",
    "ax.set_aspect('equal')\n",
    "plt.title(\"Precipitación Global PERSIANN-CCS\")\n",
    "plt.colorbar(label='Precipitación (mm)', orientation='horizontal')\n",
    "plt.xlabel(\"Longitude\")\n",
    "plt.ylabel(\"Latitude\")\n",
    "plt.show()"
   ]
  },
  {
   "cell_type": "markdown",
   "metadata": {},
   "source": [
    "Extract basic statistics from the data:"
   ]
  },
  {
   "cell_type": "code",
   "execution_count": null,
   "metadata": {},
   "outputs": [],
   "source": [
    "print('Maximum precipitation = ',data.max().values,'mm')\n",
    "print('Average precipitation = ',data.mean().values,'mm')\n",
    "print('Minimum precipitation = ',data.min().values,'mm')"
   ]
  },
  {
   "cell_type": "markdown",
   "metadata": {},
   "source": [
    "Load the shapefile of a hydrological system:\n",
    "- For example, a mountain catchment in Ecuador, South America"
   ]
  },
  {
   "cell_type": "code",
   "execution_count": null,
   "metadata": {},
   "outputs": [],
   "source": [
    "data.rio.write_crs(\"epsg:4326\", inplace=True)     \n",
    "catchment_shp_1 = gpd.read_file(folder+'/Shapefiles/Catchment_SA.shp')"
   ]
  },
  {
   "cell_type": "markdown",
   "metadata": {},
   "source": [
    "Display the catchment"
   ]
  },
  {
   "cell_type": "code",
   "execution_count": null,
   "metadata": {},
   "outputs": [],
   "source": [
    "catchment_shp_1.plot()"
   ]
  },
  {
   "cell_type": "markdown",
   "metadata": {},
   "source": [
    "Clip the global precipitation data to the catchment"
   ]
  },
  {
   "cell_type": "code",
   "execution_count": null,
   "metadata": {},
   "outputs": [],
   "source": [
    "data_catchment_1 = data.rio.clip(catchment_shp_1.geometry.apply(mapping),catchment_shp_1.crs,all_touched=True)"
   ]
  },
  {
   "cell_type": "markdown",
   "metadata": {},
   "source": [
    "Mostrar la precipitación de la cuenca del río Tomebamba"
   ]
  },
  {
   "cell_type": "code",
   "execution_count": null,
   "metadata": {},
   "outputs": [],
   "source": [
    "fig = plt.subplots(figsize=(8,8))\n",
    "plt.imshow(data_catchment_1,cmap='cividis',vmin=0.1,vmax=10)\n",
    "plt.title(\"PERSIANN-CCS precipitation\")\n",
    "plt.colorbar(label='Precipitation (mm)')\n",
    "plt.xlabel(\"Longitude\")\n",
    "plt.ylabel(\"Latitude\")\n",
    "plt.show()"
   ]
  },
  {
   "cell_type": "markdown",
   "metadata": {},
   "source": [
    "Basic precipitation statistics for the catchment"
   ]
  },
  {
   "cell_type": "code",
   "execution_count": null,
   "metadata": {},
   "outputs": [],
   "source": [
    "print('Maximum precipitation = ',data_catchment_1.max().values,'mm')\n",
    "print('Average precipitation= ',data_catchment_1.mean().values,'mm')\n",
    "print('Minimum precipitation = ',data_catchment_1.min().values,'mm')"
   ]
  },
  {
   "cell_type": "markdown",
   "metadata": {},
   "source": [
    "Now, for another catchment\n",
    "- Coastal catchment in Ecuador"
   ]
  },
  {
   "cell_type": "code",
   "execution_count": null,
   "metadata": {},
   "outputs": [],
   "source": [
    "catchment_shp_2 = gpd.read_file(folder+'/Shapefiles/Coastal_catchment.geojson')\n",
    "catchment_shp_2.plot()"
   ]
  },
  {
   "cell_type": "markdown",
   "metadata": {},
   "source": [
    "Clip the global precipitation data to the coastal catchment"
   ]
  },
  {
   "cell_type": "code",
   "execution_count": null,
   "metadata": {
    "scrolled": true
   },
   "outputs": [],
   "source": [
    "data_catchment_2 = data.rio.clip(catchment_shp_2.geometry.apply(mapping),catchment_shp_2.crs,all_touched=True)"
   ]
  },
  {
   "cell_type": "markdown",
   "metadata": {},
   "source": [
    "Mostrar la precipitación en la cuenca"
   ]
  },
  {
   "cell_type": "code",
   "execution_count": null,
   "metadata": {},
   "outputs": [],
   "source": [
    "fig = plt.subplots(figsize=(8,8))\n",
    "plt.imshow(data_catchment_2,cmap='cividis',vmin=0.1,vmax=33)\n",
    "plt.title(\"PERSIANN-CCS precipitation\")\n",
    "plt.colorbar(label='Precipitation (mm)')\n",
    "plt.xlabel(\"Longitude\")\n",
    "plt.ylabel(\"Latitude\")\n",
    "plt.show()"
   ]
  },
  {
   "cell_type": "markdown",
   "metadata": {},
   "source": [
    "Basic precipitation statistics for the coastal catchment"
   ]
  },
  {
   "cell_type": "code",
   "execution_count": null,
   "metadata": {},
   "outputs": [],
   "source": [
    "print('Maximum precipitation = ',data_catchment_2.max().values,'mm')\n",
    "print('Average precipitation= ',data_catchment_2.mean().values,'mm')\n",
    "print('Minimum precipitation = ',data_catchment_2.min().values,'mm')"
   ]
  },
  {
   "cell_type": "markdown",
   "metadata": {},
   "source": [
    "**Now read all the downloaded precipitation files**"
   ]
  },
  {
   "cell_type": "markdown",
   "metadata": {},
   "source": [
    "Create a list for the downloaded files"
   ]
  },
  {
   "cell_type": "code",
   "execution_count": null,
   "metadata": {},
   "outputs": [],
   "source": [
    "folder_files\n",
    "file_extension = \"*.bin.gz\"  \n",
    "list_of_Files = glob.glob(os.path.join(folder_files, file_extension))\n",
    "list_of_Files = [file_name for file_name in list_of_Files if not file_name.startswith('.DS_Store')]\n",
    "list_of_Files.sort()"
   ]
  },
  {
   "cell_type": "markdown",
   "metadata": {},
   "source": [
    "Display the list"
   ]
  },
  {
   "cell_type": "code",
   "execution_count": null,
   "metadata": {},
   "outputs": [],
   "source": [
    "list_of_Files[:10]"
   ]
  },
  {
   "cell_type": "markdown",
   "metadata": {},
   "source": [
    "Read the files, one by one, and calculate the accumulated precipitation for the first 15 days of January 2023"
   ]
  },
  {
   "cell_type": "code",
   "execution_count": null,
   "metadata": {},
   "outputs": [],
   "source": [
    "data_sum = xr.DataArray(data=np.empty((3000, 9000)), dims=[\"lat\", \"lon\"])\n",
    "for index, item in enumerate(list_of_Files):\n",
    "    print(index+1, 'out of', len(list_of_Files))\n",
    "    f=gzip.GzipFile(item)\n",
    "    try:\n",
    "        file_content = f.read()\n",
    "    except (IOError, EOFError) as e:\n",
    "        continue\n",
    "    data = np.frombuffer(file_content, dtype=np.dtype('>h')).astype(float)\n",
    "    data = data.reshape((3000,9000))\n",
    "    data_1 = data[:,4500:]\n",
    "    data_2 = data[:,:4500]\n",
    "    data = np.hstack((data_1,data_2))\n",
    "    data= data/100\n",
    "    data[data < 0] = np.nan \n",
    "    data = np.flipud(data)\n",
    "    data = xr.DataArray(data=data, dims=[\"lat\", \"lon\"], coords=[lat,lon])\n",
    "    data_sum+=data"
   ]
  },
  {
   "cell_type": "code",
   "execution_count": null,
   "metadata": {},
   "outputs": [],
   "source": [
    "data_sum"
   ]
  },
  {
   "cell_type": "markdown",
   "metadata": {},
   "source": [
    "- Georeference the data\n",
    "- Clip the accumulated satellite precipitation to the catchment shapefile"
   ]
  },
  {
   "cell_type": "code",
   "execution_count": null,
   "metadata": {},
   "outputs": [],
   "source": [
    "data_sum.rio.set_spatial_dims(x_dim=\"lon\", y_dim=\"lat\", inplace=True)\n",
    "data_sum.rio.write_crs(\"epsg:4326\", inplace=True)       \n",
    "data_catchment_1 = data_sum.rio.clip(catchment_shp_1.geometry.apply(mapping),catchment_shp_1.crs,all_touched=True)"
   ]
  },
  {
   "cell_type": "markdown",
   "metadata": {},
   "source": [
    "- Plot the data.\n",
    "- Display basic statistics."
   ]
  },
  {
   "cell_type": "code",
   "execution_count": null,
   "metadata": {},
   "outputs": [],
   "source": [
    "fig = plt.subplots(figsize=(8,8))\n",
    "plt.imshow(data_catchment_1,cmap='cividis',vmin=0.1,vmax=150)\n",
    "plt.title(\"PERSIANN-CCS precipitation\")\n",
    "plt.colorbar(label='Precipitation (mm)')\n",
    "plt.xlabel(\"Longitude\")\n",
    "plt.ylabel(\"Latitude\")\n",
    "plt.show()\n",
    "print('Maximum precipitación = ',data_catchment_1.max().values,'mm')\n",
    "print('Average precipitación = ',data_catchment_1.mean().values,'mm')\n",
    "print('Minimum precipitación = ',data_catchment_1.min().values,'mm')"
   ]
  },
  {
   "cell_type": "markdown",
   "metadata": {},
   "source": [
    "Now for the coastal catchment"
   ]
  },
  {
   "cell_type": "code",
   "execution_count": null,
   "metadata": {},
   "outputs": [],
   "source": [
    "data_catchment_2 = data_sum.rio.clip(catchment_shp_2.geometry.apply(mapping),catchment_shp_2.crs,all_touched=True)\n",
    "fig = plt.subplots(figsize=(8,8))\n",
    "plt.imshow(data_catchment_2,cmap='cividis',vmin=0.1,vmax=150)\n",
    "plt.title(\"PERSIANN-CCS precipitation\")\n",
    "plt.colorbar(label='Precipitation (mm)')\n",
    "plt.xlabel(\"Longitude\")\n",
    "plt.ylabel(\"Latitude\")\n",
    "plt.show()\n",
    "print('Maximum precipitación = ',data_catchment_2.max().values,'mm')\n",
    "print('Average precipitación = ',data_catchment_2.mean().values,'mm')\n",
    "print('Minimum precipitación = ',data_catchment_2.min().values,'mm')"
   ]
  },
  {
   "cell_type": "markdown",
   "metadata": {},
   "source": [
    "Generate a dataFrame with precipitation time series (for each pixel):\n",
    "\n",
    "- Example: In the mountain catchment, time series for January 1, 2023."
   ]
  },
  {
   "cell_type": "code",
   "execution_count": null,
   "metadata": {
    "scrolled": true
   },
   "outputs": [],
   "source": [
    "for index, item in enumerate(list_of_Files[:24]):\n",
    "    print(index+1, 'out of', len(list_of_Files[:24]))\n",
    "    f=gzip.GzipFile(item)\n",
    "    try:\n",
    "        file_content = f.read()\n",
    "    except (IOError, EOFError) as e:\n",
    "        continue\n",
    "    data = np.frombuffer(file_content, dtype=np.dtype('>h')).astype(float)  # Convert to float\n",
    "    data = data.reshape((3000,9000))\n",
    "    data_1 = data[:,4500:]\n",
    "    data_2 = data[:,:4500]\n",
    "    data = np.hstack((data_1,data_2))\n",
    "    data= data/100\n",
    "    data[data < 0] = np.nan  \n",
    "    data = np.flipud(data)\n",
    "    data = xr.DataArray(data=data, dims=[\"lat\", \"lon\"], coords=[lat,lon])\n",
    "    data.rio.set_spatial_dims(x_dim=\"lon\", y_dim=\"lat\", inplace=True)\n",
    "    data.rio.write_crs(\"epsg:4326\", inplace=True)       \n",
    "    data = data.rio.clip(catchment_shp_1.geometry.apply(mapping),catchment_shp_1.crs,all_touched=True)\n",
    "    data = data.values.flatten()\n",
    "    date_att = str(item)\n",
    "    year = int('20'+str(date_att[-14:-12]))\n",
    "    julian_day = int(str(date_att[-12:-9]))\n",
    "    day, month = JulianDate_to_MMDDYYY(year,julian_day)\n",
    "    hour = int(str(date_att[-9:-7]))\n",
    "    date = datetime.datetime(int(year), int(month), day, hour, 0, 0)\n",
    "    data = pd.DataFrame(data)\n",
    "    data = data.dropna() \n",
    "    data = data.T\n",
    "    data = data.set_index(pd.DatetimeIndex([date]))\n",
    "    if index==0:\n",
    "        dataset=data.copy()\n",
    "    else:       \n",
    "        dataset = dataset.append(data)"
   ]
  },
  {
   "cell_type": "markdown",
   "metadata": {},
   "source": [
    "- Preprocess the information\n",
    "- Remove duplicate data"
   ]
  },
  {
   "cell_type": "code",
   "execution_count": null,
   "metadata": {},
   "outputs": [],
   "source": [
    "dataset.shape"
   ]
  },
  {
   "cell_type": "code",
   "execution_count": null,
   "metadata": {},
   "outputs": [],
   "source": [
    "dataset = dataset.sort_index()\n",
    "dataset = dataset[~dataset.index.duplicated(keep='first')]\n",
    "dataset"
   ]
  },
  {
   "cell_type": "markdown",
   "metadata": {},
   "source": [
    "Export this information in **CSV** format"
   ]
  },
  {
   "cell_type": "code",
   "execution_count": null,
   "metadata": {},
   "outputs": [],
   "source": [
    "dataset.to_csv(folder_files+\"PERSIANN-CCS_UTC_Catchment_1.csv\", index=True)"
   ]
  },
  {
   "cell_type": "markdown",
   "metadata": {},
   "source": [
    "Plot the extracted satellite precipitation"
   ]
  },
  {
   "cell_type": "code",
   "execution_count": null,
   "metadata": {},
   "outputs": [],
   "source": [
    "fig, ax = plt.subplots(figsize=(10,5))\n",
    "dataset.plot(kind='bar', ax=ax)\n",
    "ax.legend(title='Legend Title')\n",
    "plt.ylabel('Satellite precipitation (mm)')\n",
    "plt.legend(loc='upper center', bbox_to_anchor=(0.5, -0.6), ncol=6)\n",
    "plt.show()"
   ]
  },
  {
   "cell_type": "markdown",
   "metadata": {},
   "source": [
    "Calculate and plot the accumulated precipitation"
   ]
  },
  {
   "cell_type": "code",
   "execution_count": null,
   "metadata": {},
   "outputs": [],
   "source": [
    "fig, ax = plt.subplots(figsize=(10,5))\n",
    "dataset.cumsum().plot(ax=ax)\n",
    "ax.legend(title='Legend Title')\n",
    "plt.ylabel('Accumulated precipitation (mm)')\n",
    "plt.legend(loc='upper center', bbox_to_anchor=(0.5, -0.3), ncol=6)\n",
    "plt.show()"
   ]
  },
  {
   "cell_type": "markdown",
   "metadata": {},
   "source": [
    "# IMERG Data Sources"
   ]
  },
  {
   "cell_type": "markdown",
   "metadata": {},
   "source": [
    "Website: [https://gpm.nasa.gov/data/imerg](https://gpm.nasa.gov/data/imerg)\n",
    "\n",
    "## Available Subproducts:\n",
    "- **Early Run**\n",
    "- **Late Run**\n",
    "- **Final Run**\n",
    "\n",
    "We will focus on the subproduct with the finest spatial/temporal resolution, **IMERG-Early Run**."
   ]
  },
  {
   "cell_type": "markdown",
   "metadata": {},
   "source": [
    "## Prior registration to download IMERG data"
   ]
  },
  {
   "cell_type": "markdown",
   "metadata": {},
   "source": [
    "To access and download IMERG data, prior registration is required. Follow these steps:"
   ]
  },
  {
   "cell_type": "markdown",
   "metadata": {},
   "source": [
    "https://registration.pps.eosdis.nasa.gov/registration/newContact.html"
   ]
  },
  {
   "cell_type": "markdown",
   "metadata": {},
   "source": [
    "<div style=\"text-align:center;\"><img style=\"width: 100%;\" src=\"static/imgs/IMERG_registration.png\"></div>\n"
   ]
  },
  {
   "cell_type": "markdown",
   "metadata": {},
   "source": [
    "Once registered, confirm your account via the email verification link.  "
   ]
  },
  {
   "cell_type": "markdown",
   "metadata": {},
   "source": [
    "## Connect to the IMERG data repository"
   ]
  },
  {
   "cell_type": "markdown",
   "metadata": {},
   "source": [
    "Enter the following information to connect to the IMERG FTP server:\n",
    "\n",
    "- **Protocol:** FTP - File Transfer Protocol  \n",
    "- **Host:** `jsimpsonftps.pps.eosdis.nasa.gov`  \n",
    "- **Logon Type:** Normal  \n",
    "  - Enter your **username** and **password** from your NASA Earthdata account.\n",
    "\n",
    "Once connected, navigate to the desired directory to access IMERG data."
   ]
  },
  {
   "cell_type": "markdown",
   "metadata": {},
   "source": [
    "<div style=\"text-align:center;\"><img style=\"width: 100%;\" src=\"static/imgs/IMERG_FTP.png\"></div>"
   ]
  },
  {
   "cell_type": "markdown",
   "metadata": {},
   "source": [
    "Upon connecting, you gain remote access to the IMERG data folder.  \n",
    "\n",
    "From here, you can navigate through the directories to locate and download the desired datasets."
   ]
  },
  {
   "cell_type": "markdown",
   "metadata": {},
   "source": [
    "<div style=\"text-align:center;\"><img style=\"width: 100%;\" src=\"static/imgs/IMERG_server.png\"></div>"
   ]
  },
  {
   "cell_type": "markdown",
   "metadata": {},
   "source": [
    "## Download data from the IMERG-Early Run repository\n"
   ]
  },
  {
   "cell_type": "markdown",
   "metadata": {},
   "source": [
    "Right-click on the folder/file you want to download and select **\"Download\"** to save it to your local directory.  "
   ]
  },
  {
   "cell_type": "markdown",
   "metadata": {},
   "source": [
    "## Open an IMERG precipitation file"
   ]
  },
  {
   "cell_type": "markdown",
   "metadata": {},
   "source": [
    "Define IMERG-ER data folder"
   ]
  },
  {
   "cell_type": "code",
   "execution_count": null,
   "metadata": {},
   "outputs": [],
   "source": [
    "folder = os.getcwd()\n",
    "folder_files= folder+'/data/IMERG-ER/Hourly/Global/202301/'\n",
    "folder_files"
   ]
  },
  {
   "cell_type": "markdown",
   "metadata": {},
   "source": [
    "Create a list of precipitation files from January 31, 2023."
   ]
  },
  {
   "cell_type": "code",
   "execution_count": null,
   "metadata": {},
   "outputs": [],
   "source": [
    "list_of_Files = glob.glob(folder_files + '/*H5')\n",
    "list_of_Files.sort()"
   ]
  },
  {
   "cell_type": "markdown",
   "metadata": {},
   "source": [
    "Display the list"
   ]
  },
  {
   "cell_type": "code",
   "execution_count": null,
   "metadata": {},
   "outputs": [],
   "source": [
    "list_of_Files"
   ]
  },
  {
   "cell_type": "markdown",
   "metadata": {},
   "source": [
    "Define the path of a file for reading."
   ]
  },
  {
   "cell_type": "code",
   "execution_count": null,
   "metadata": {},
   "outputs": [],
   "source": [
    "item=folder_files+'3B-HHR-E.MS.MRG.3IMERG.20230131-S000000-E002959.0000.V06C.RT-H5'\n",
    "item"
   ]
  },
  {
   "cell_type": "markdown",
   "metadata": {},
   "source": [
    "Open a precipitation file."
   ]
  },
  {
   "cell_type": "code",
   "execution_count": null,
   "metadata": {},
   "outputs": [],
   "source": [
    "data = h5py.File( item, 'r' )\n",
    "precip = data['/Grid/precipitationCal'][:]\n",
    "precip = np.flip( precip[0,:,:].transpose(), axis=0 )"
   ]
  },
  {
   "cell_type": "markdown",
   "metadata": {},
   "source": [
    "Display the read data matrix."
   ]
  },
  {
   "cell_type": "code",
   "execution_count": null,
   "metadata": {},
   "outputs": [],
   "source": [
    "precip"
   ]
  },
  {
   "cell_type": "markdown",
   "metadata": {},
   "source": [
    "Estadísticos básicos"
   ]
  },
  {
   "cell_type": "code",
   "execution_count": null,
   "metadata": {},
   "outputs": [],
   "source": [
    "print('Maximum precipitation = ',precip.max(),'mm')\n",
    "print('Average precipitation = ',precip.mean(),'mm')\n",
    "print('Minimum precipitation = ',precip.min(),'mm')"
   ]
  },
  {
   "cell_type": "markdown",
   "metadata": {},
   "source": [
    "Display the global precipitation information."
   ]
  },
  {
   "cell_type": "code",
   "execution_count": null,
   "metadata": {},
   "outputs": [],
   "source": [
    "fig, ax = plt.subplots(figsize=(10, 10))\n",
    "im = ax.imshow(precip, vmin=-1, vmax=80, extent=[-180, 180, -90, 90])\n",
    "cbar = plt.colorbar(im, orientation='horizontal')\n",
    "cbar.set_label('millimeters/hour')\n",
    "for lon in np.arange(-90, 90+1, 90):\n",
    "    plt.plot((lon, lon), (-90, +90), color=\"black\", linewidth=1)\n",
    "for lat in np.arange(-60, 60+1, 30):\n",
    "    plt.plot((-180, +180), (lat, lat), color=\"black\", linewidth=1)\n",
    "plt.show()"
   ]
  },
  {
   "cell_type": "markdown",
   "metadata": {},
   "source": [
    "Georeference and clip the global precipitation data to the Tomebamba River basin."
   ]
  },
  {
   "cell_type": "code",
   "execution_count": null,
   "metadata": {},
   "outputs": [],
   "source": [
    "precip"
   ]
  },
  {
   "cell_type": "code",
   "execution_count": null,
   "metadata": {},
   "outputs": [],
   "source": [
    "lat = data['/Grid/lat'][:]\n",
    "lon = data['/Grid/lon'][:]\n",
    "catchment_shp_1 = gpd.read_file(folder+'/Shapefiles/Catchment_SA.shp')\n",
    "data = xr.DataArray(data=precip, dims=[\"lat\", \"lon\"], coords=[lat,lon])\n",
    "data.rio.set_spatial_dims(x_dim=\"lon\", y_dim=\"lat\", inplace=True)\n",
    "data.rio.write_crs(\"epsg:4326\", inplace=True)       \n",
    "data_catchment_1= data.rio.clip(catchment_shp_1.geometry.apply(mapping),catchment_shp_1.crs,all_touched=True)"
   ]
  },
  {
   "cell_type": "markdown",
   "metadata": {},
   "source": [
    "Plot the precipitation for the mountain catchment"
   ]
  },
  {
   "cell_type": "code",
   "execution_count": null,
   "metadata": {},
   "outputs": [],
   "source": [
    "fig = plt.subplots(figsize=(8,8))\n",
    "data_catchment_1.plot(cmap='cividis',vmin=0,vmax=0.01)\n",
    "plt.title(\"IMERG-ER precipitation\")\n",
    "plt.xlabel(\"Longitude\")\n",
    "plt.ylabel(\"Latitude\")\n",
    "plt.show()"
   ]
  },
  {
   "cell_type": "markdown",
   "metadata": {},
   "source": [
    "Basic statistics"
   ]
  },
  {
   "cell_type": "code",
   "execution_count": null,
   "metadata": {},
   "outputs": [],
   "source": [
    "print('Maximum precipitation = ',data_catchment_1.max().values,'mm')\n",
    "print('Average precipitation = ',data_catchment_1.mean().values,'mm')\n",
    "print('Minimum precipitation = ',data_catchment_1.min().values,'mm')"
   ]
  },
  {
   "cell_type": "markdown",
   "metadata": {},
   "source": [
    "Plot the precipitation for the coastal catchment"
   ]
  },
  {
   "cell_type": "code",
   "execution_count": null,
   "metadata": {},
   "outputs": [],
   "source": [
    "catchment_shp_2 = gpd.read_file(folder+'/Shapefiles/Coastal_catchment.geojson')\n",
    "data_catchment_2 = data.rio.clip(catchment_shp_2.geometry.apply(mapping),catchment_shp_2.crs,all_touched=True)\n",
    "fig = plt.subplots(figsize=(8,8))\n",
    "data_catchment_2.plot(cmap='cividis',vmin=0,vmax=5)\n",
    "plt.title(\"Precipitación Global IMERG-ER\")\n",
    "plt.xlabel(\"Longitude\")\n",
    "plt.ylabel(\"Latitude\")\n",
    "plt.show()\n",
    "print('Maximum precipitation = ',data_catchment_2.max().values,'mm')\n",
    "print('Average precipitation = ',data_catchment_2.mean().values,'mm')\n",
    "print('Minimum precipitation = ',data_catchment_2.min().values,'mm')"
   ]
  },
  {
   "cell_type": "markdown",
   "metadata": {},
   "source": [
    "Read and process all IMERG-ER files."
   ]
  },
  {
   "cell_type": "markdown",
   "metadata": {},
   "source": [
    "Display the list"
   ]
  },
  {
   "cell_type": "code",
   "execution_count": null,
   "metadata": {},
   "outputs": [],
   "source": [
    "list_of_Files"
   ]
  },
  {
   "cell_type": "markdown",
   "metadata": {},
   "source": [
    "Accumulate precipitation"
   ]
  },
  {
   "cell_type": "code",
   "execution_count": null,
   "metadata": {},
   "outputs": [],
   "source": [
    "data_sum = xr.DataArray(data=np.empty((1800, 3600)), dims=[\"lat\", \"lon\"])\n",
    "for index, item in enumerate(list_of_Files):\n",
    "    print(index+1, 'out of', len(list_of_Files))\n",
    "    try:\n",
    "        data = h5py.File(item, 'r')        \n",
    "        precip = data['/Grid/precipitationCal'][:]\n",
    "        precip[precip < 0] = np.nan \n",
    "        precip = np.flip(precip[0,:,:].transpose(), axis=0) \n",
    "        theLats = data['Grid/lat'][:]\n",
    "        theLons = data['Grid/lon'][:]\n",
    "        x, y = np.meshgrid(theLons, theLats)\n",
    "        \n",
    "        precip = xr.DataArray(precip, dims=('lat', 'lon'), coords={'lat' : theLats, 'lon' : theLons})\n",
    "        \n",
    "        data_sum += precip\n",
    "        \n",
    "        data.close()\n",
    "        \n",
    "    except (IOError, EOFError) as e:\n",
    "        continue"
   ]
  },
  {
   "cell_type": "markdown",
   "metadata": {},
   "source": [
    "Plot the accumulated precipitation information for January 31, 2023."
   ]
  },
  {
   "cell_type": "code",
   "execution_count": null,
   "metadata": {},
   "outputs": [],
   "source": [
    "fig, ax = plt.subplots(figsize=(10, 10))\n",
    "im = ax.imshow(data_sum, vmin=-1, vmax=1400, extent=[-180, 180, -90, 90])\n",
    "cbar = plt.colorbar(im, orientation='horizontal')\n",
    "cbar.set_label('millimeters/hour')\n",
    "\n",
    "for lon in np.arange(-90, 90+1, 90):\n",
    "    plt.plot((lon, lon), (-90, +90), color=\"black\", linewidth=1)\n",
    "for lat in np.arange(-60, 60+1, 30):\n",
    "    plt.plot((-180, +180), (lat, lat), color=\"black\", linewidth=1)\n",
    "\n",
    "plt.show()"
   ]
  },
  {
   "cell_type": "markdown",
   "metadata": {},
   "source": [
    "Clip that information to the mountain catchment"
   ]
  },
  {
   "cell_type": "code",
   "execution_count": null,
   "metadata": {},
   "outputs": [],
   "source": [
    "data_sum.rio.set_spatial_dims(x_dim=\"lon\", y_dim=\"lat\", inplace=True)\n",
    "data_sum.rio.write_crs(\"epsg:4326\", inplace=True)   \n",
    "data_sum_catchment_1= data_sum.rio.clip(catchment_shp_1.geometry.apply(mapping),catchment_shp_1.crs,all_touched=True)\n",
    "data_sum_catchment_1"
   ]
  },
  {
   "cell_type": "code",
   "execution_count": null,
   "metadata": {},
   "outputs": [],
   "source": [
    "fig = plt.subplots(figsize=(8,8))\n",
    "data_sum_catchment_1.plot(cmap='cividis',vmin=0,vmax=16)\n",
    "plt.title(\"IMERG-ER precipitation\")\n",
    "plt.xlabel(\"Longitude\")\n",
    "plt.ylabel(\"Latitude\")\n",
    "plt.show()\n",
    "print('Maximum precipitación = ',data_sum_catchment_1.max().values,'mm')\n",
    "print('Average precipitación = ',data_sum_catchment_1.mean().values,'mm')\n",
    "print('Minimum precipitation = ',data_sum_catchment_1.min().values,'mm')"
   ]
  },
  {
   "cell_type": "markdown",
   "metadata": {},
   "source": [
    "Now for the coastal catchment"
   ]
  },
  {
   "cell_type": "code",
   "execution_count": null,
   "metadata": {},
   "outputs": [],
   "source": [
    "data_sum = xr.DataArray(data_sum, dims=('lat', 'lon'), coords={'lat' : theLats, 'lon' : theLons})\n",
    "data_sum.rio.set_spatial_dims(x_dim=\"lon\", y_dim=\"lat\", inplace=True)\n",
    "data_sum.rio.write_crs(\"epsg:4326\", inplace=True)   \n",
    "data_sum_catchment_2= data_sum.rio.clip(catchment_shp_2.geometry.apply(mapping),catchment_shp_2.crs,all_touched=True)\n",
    "fig = plt.subplots(figsize=(8,8))\n",
    "data_sum_catchment_2.plot(cmap='cividis',vmin=0,vmax=9)\n",
    "plt.title(\"IMERG-ER precipitation\")\n",
    "plt.xlabel(\"Longitude\")\n",
    "plt.ylabel(\"Latitude\")\n",
    "plt.show()\n",
    "print('Maximum precipitation = ',data_sum_catchment_2.max().values,'mm')\n",
    "print('Average precipitation = ',data_sum_catchment_2.mean().values,'mm')\n",
    "print('Minimum precipitation = ',data_sum_catchment_2.min().values,'mm')"
   ]
  },
  {
   "cell_type": "markdown",
   "metadata": {},
   "source": [
    "Generate a database with precipitation time series (pixels) for the mountain catchment"
   ]
  },
  {
   "cell_type": "code",
   "execution_count": null,
   "metadata": {},
   "outputs": [],
   "source": [
    "for index, item in enumerate(list_of_Files):\n",
    "    print(index+1, 'out of',len(list_of_Files))\n",
    "    try:\n",
    "        data = h5py.File(item, 'r')\n",
    "    except (IOError, EOFError) as e:    \n",
    "        continue\n",
    "    precip = data['/Grid/precipitationCal'][:]\n",
    "    precip[precip < 0] = np.nan \n",
    "    precip = np.flip( precip[0,:,:].transpose(), axis=0)\n",
    "    precip = xr.DataArray(precip, dims=('lat', 'lon'), coords={'lat' : theLats, 'lon' : theLons})\n",
    "    precip.rio.set_spatial_dims(x_dim=\"lon\", y_dim=\"lat\", inplace=True)\n",
    "    precip.rio.write_crs(\"epsg:4326\", inplace=True)   \n",
    "    precip= precip.rio.clip(catchment_shp_1.geometry.apply(mapping),catchment_shp_1.crs,all_touched=True)  \n",
    "    precip = precip.values.flatten()\n",
    "    year = int(item[-40:-36])\n",
    "    month = int(item[-36:-34])\n",
    "    day = int(item[-34:-32])\n",
    "    hour = int(item[-22:-20])\n",
    "    minute = int(item[-20:-18])\n",
    "    date = datetime.datetime(year, month, day, hour, minute, 0)\n",
    "    data = pd.DataFrame(precip)\n",
    "    data = data.dropna()\n",
    "    data = data.T\n",
    "    data.set_index(pd.DatetimeIndex([date]),inplace=True)\n",
    "    if index==0:\n",
    "        dataset=data.copy()\n",
    "    else:       \n",
    "        dataset = dataset.append(data)\n",
    "\n",
    "dataset = dataset.resample('H',label='right',closed='right').sum() #nan = 0\n"
   ]
  },
  {
   "cell_type": "markdown",
   "metadata": {},
   "source": [
    "Mostrar el dataframe"
   ]
  },
  {
   "cell_type": "code",
   "execution_count": null,
   "metadata": {},
   "outputs": [],
   "source": [
    "dataset"
   ]
  },
  {
   "cell_type": "markdown",
   "metadata": {},
   "source": [
    "Export the dataframe to csv"
   ]
  },
  {
   "cell_type": "code",
   "execution_count": null,
   "metadata": {},
   "outputs": [],
   "source": [
    "dataset.to_csv(folder_files+\"IMERG-ER_UTC_Catchment_1.csv\", index=True)  "
   ]
  },
  {
   "cell_type": "markdown",
   "metadata": {},
   "source": [
    "Plot the precipitation time series."
   ]
  },
  {
   "cell_type": "code",
   "execution_count": null,
   "metadata": {},
   "outputs": [],
   "source": [
    "fig, ax = plt.subplots(figsize=(10,5))\n",
    "dataset.plot(kind='bar', ax=ax)\n",
    "ax.legend(title='Legend Title')\n",
    "plt.ylabel('Precipitation_satellite (mm)')\n",
    "plt.legend(loc='upper center', bbox_to_anchor=(0.5, -0.6), ncol=7)\n",
    "plt.show()"
   ]
  },
  {
   "cell_type": "markdown",
   "metadata": {},
   "source": [
    "Plot the accumulated precipitation"
   ]
  },
  {
   "cell_type": "code",
   "execution_count": null,
   "metadata": {},
   "outputs": [],
   "source": [
    "fig, ax = plt.subplots(figsize=(10,5))\n",
    "dataset.cumsum().plot( ax=ax)\n",
    "ax.legend(title='Legend Title')\n",
    "plt.ylabel('Precipitation_satellite (mm)')\n",
    "plt.legend(loc='upper center', bbox_to_anchor=(0.5, -0.6), ncol=7)\n",
    "plt.show()"
   ]
  },
  {
   "cell_type": "markdown",
   "metadata": {},
   "source": [
    "Do the same for the coastal catchment"
   ]
  },
  {
   "cell_type": "code",
   "execution_count": null,
   "metadata": {},
   "outputs": [],
   "source": [
    "for index, item in enumerate(list_of_Files):\n",
    "    print(index+1, 'out of',len(list_of_Files))\n",
    "    try:\n",
    "        data = h5py.File(item, 'r')\n",
    "    except (IOError, EOFError) as e:    \n",
    "        continue\n",
    "    precip = data['/Grid/precipitationCal'][:]\n",
    "    precip[precip < 0] = np.nan \n",
    "    precip = np.flip( precip[0,:,:].transpose(), axis=0)\n",
    "    precip = xr.DataArray(precip, dims=('lat', 'lon'), coords={'lat' : theLats, 'lon' : theLons})\n",
    "    precip.rio.set_spatial_dims(x_dim=\"lon\", y_dim=\"lat\", inplace=True)\n",
    "    precip.rio.write_crs(\"epsg:4326\", inplace=True)   \n",
    "    precip= precip.rio.clip(catchment_shp_2.geometry.apply(mapping),catchment_shp_2.crs,all_touched=True)  \n",
    "    precip = precip.values.flatten()\n",
    "    year = int(item[-40:-36])\n",
    "    month = int(item[-36:-34])\n",
    "    day = int(item[-34:-32])\n",
    "    hour = int(item[-22:-20])\n",
    "    minute = int(item[-20:-18])\n",
    "    date = datetime.datetime(year, month, day, hour, minute, 0)\n",
    "    data = pd.DataFrame(precip)\n",
    "    data = data.dropna()\n",
    "    data = data.T\n",
    "    data.set_index(pd.DatetimeIndex([date]),inplace=True)\n",
    "    if index==0:\n",
    "        dataset=data.copy()\n",
    "    else:       \n",
    "        dataset = dataset.append(data)\n",
    "\n",
    "dataset = dataset.resample('H',label='right',closed='right').sum() \n"
   ]
  },
  {
   "cell_type": "markdown",
   "metadata": {},
   "source": [
    "Display the dataframe"
   ]
  },
  {
   "cell_type": "code",
   "execution_count": null,
   "metadata": {},
   "outputs": [],
   "source": [
    "dataset"
   ]
  },
  {
   "cell_type": "markdown",
   "metadata": {},
   "source": [
    "Export the dataframe to csv"
   ]
  },
  {
   "cell_type": "code",
   "execution_count": null,
   "metadata": {},
   "outputs": [],
   "source": [
    "dataset.to_csv(folder_files+\"IMERG-ER_UTC_Catchment_2.csv\", index=True)  "
   ]
  },
  {
   "cell_type": "markdown",
   "metadata": {},
   "source": [
    "Plot the precipitation time series."
   ]
  },
  {
   "cell_type": "code",
   "execution_count": null,
   "metadata": {},
   "outputs": [],
   "source": [
    "fig, ax = plt.subplots(figsize=(10,5))\n",
    "dataset.plot(kind='bar', ax=ax)\n",
    "ax.legend(title='Legend Title')\n",
    "plt.ylabel('Precipitation_satellite (mm)')\n",
    "plt.legend(loc='upper center', bbox_to_anchor=(0.5, -0.6), ncol=9)\n",
    "plt.show()"
   ]
  },
  {
   "cell_type": "markdown",
   "metadata": {},
   "source": [
    "Plot the accumulated precipitation"
   ]
  },
  {
   "cell_type": "code",
   "execution_count": null,
   "metadata": {
    "scrolled": true
   },
   "outputs": [],
   "source": [
    "fig, ax = plt.subplots(figsize=(10,5))\n",
    "dataset.cumsum().plot( ax=ax)\n",
    "ax.legend(title='Legend Title')\n",
    "plt.ylabel('Precipitation_satellite (mm)')\n",
    "plt.legend(loc='upper center', bbox_to_anchor=(0.5, -0.6), ncol=9)\n",
    "plt.show()"
   ]
  },
  {
   "cell_type": "code",
   "execution_count": null,
   "metadata": {},
   "outputs": [],
   "source": []
  },
  {
   "cell_type": "code",
   "execution_count": null,
   "metadata": {},
   "outputs": [],
   "source": []
  }
 ],
 "metadata": {
  "kernelspec": {
   "display_name": "Python 3 (ipykernel)",
   "language": "python",
   "name": "python3"
  },
  "language_info": {
   "codemirror_mode": {
    "name": "ipython",
    "version": 3
   },
   "file_extension": ".py",
   "mimetype": "text/x-python",
   "name": "python",
   "nbconvert_exporter": "python",
   "pygments_lexer": "ipython3",
   "version": "3.7.16"
  }
 },
 "nbformat": 4,
 "nbformat_minor": 4
}
