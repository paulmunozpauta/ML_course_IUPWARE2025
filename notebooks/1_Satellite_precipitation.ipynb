{
  "cells": [
    {
      "cell_type": "markdown",
      "source": [
        "# IUPWARE 2025 refresher course: Satellite precipitation & Machine Learning hydrological modelling"
      ],
      "metadata": {
        "id": "MQsQRnesA61s"
      }
    },
    {
      "cell_type": "markdown",
      "metadata": {
        "id": "yxok-7bskqPv"
      },
      "source": [
        "<div style=\"text-align:center;\">\n",
        "    <img src=\"https://github.com/paulmunozpauta/ML_course_IUPWARE2025/blob/main/notebooks/static/imgs/Logo_course.png?raw=true\" width=\"300\">\n",
        "    <p style=\"margin-top:10px;\">\n",
        "        Contact: paul.munoz@vub.be\n",
        "    </p>\n",
        "    <p>Find me on my <a href=\"https://paulmunozpauta.github.io/paulmunozpauta/index.html\" target=\"_blank\">personal website</a></p>\n",
        "</div>\n",
        "\n",
        "\n"
      ]
    },
    {
      "cell_type": "markdown",
      "source": [
        "## Before starting, follow this four steps to run the notebook on Google Colab"
      ],
      "metadata": {
        "id": "UTb7cPclBVf7"
      }
    },
    {
      "cell_type": "markdown",
      "source": [
        "Step 1. Clone GitHub repository with notebooks and data for the course"
      ],
      "metadata": {
        "id": "9u3BFkcilU51"
      }
    },
    {
      "cell_type": "code",
      "source": [
        "!git clone -- https://github.com/paulmunozpauta/ML_course_IUPWARE2025.git"
      ],
      "metadata": {
        "id": "QC5sdmsJkrm-"
      },
      "execution_count": null,
      "outputs": []
    },
    {
      "cell_type": "markdown",
      "source": [
        "Step 2: Let's move to the cloned folder"
      ],
      "metadata": {
        "id": "8pzxxjPmlZOz"
      }
    },
    {
      "cell_type": "code",
      "source": [
        "ls"
      ],
      "metadata": {
        "id": "gcw9i_9yQ6oX"
      },
      "execution_count": null,
      "outputs": []
    },
    {
      "cell_type": "code",
      "source": [
        "%cd ML_course_IUPWARE2025"
      ],
      "metadata": {
        "id": "86fWT58GkyF8"
      },
      "execution_count": null,
      "outputs": []
    },
    {
      "cell_type": "code",
      "execution_count": null,
      "metadata": {
        "id": "uevmoKhHkqPx"
      },
      "outputs": [],
      "source": [
        "ls"
      ]
    },
    {
      "cell_type": "markdown",
      "source": [
        "Step 3: Set-up environment for running course's code"
      ],
      "metadata": {
        "id": "In8RPfUmlbBz"
      }
    },
    {
      "cell_type": "code",
      "execution_count": null,
      "metadata": {
        "id": "f9UbABMYkqPx"
      },
      "outputs": [],
      "source": [
        "# Install Poetry\n",
        "!pip install poetry\n",
        "# Disable virtual environment creation (needed for Colab)\n",
        "!poetry config virtualenvs.create false"
      ]
    },
    {
      "cell_type": "markdown",
      "source": [
        "If session restarts, repeat Steps 2-3.\n",
        "If not, move to Step 4\n"
      ],
      "metadata": {
        "id": "VW4i_6hSlSNY"
      }
    },
    {
      "cell_type": "markdown",
      "source": [
        "Step 4: Install required packages for the course"
      ],
      "metadata": {
        "id": "66WCH0wJlv9G"
      }
    },
    {
      "cell_type": "code",
      "execution_count": null,
      "metadata": {
        "id": "8uKlbfCykqPx"
      },
      "outputs": [],
      "source": [
        "!poetry install --no-root"
      ]
    },
    {
      "cell_type": "markdown",
      "source": [
        "Now let's start wit the hands-on course"
      ],
      "metadata": {
        "id": "jxH_qxQKl1q_"
      }
    },
    {
      "cell_type": "markdown",
      "metadata": {
        "id": "jf668UO4kqPy"
      },
      "source": [
        "# Part 1: Data acquisition and pre-processing of satellite precipitation data"
      ]
    },
    {
      "cell_type": "markdown",
      "metadata": {
        "id": "4oSoT2tlkqPy"
      },
      "source": [
        "In this session, we will:\n",
        "\n",
        "- Learn how to access and download two global satellite precipitation sources:\n",
        "  - PERSIANN-CCS (UCalifornia)\n",
        "  - IMERG-ER (NASA's GPM)\n",
        "- Open, georeference and display satellite precipitation for a given area"
      ]
    },
    {
      "cell_type": "markdown",
      "metadata": {
        "id": "otd0esX7kqPy"
      },
      "source": [
        "# Software for accessing free satellite data repositories"
      ]
    },
    {
      "cell_type": "markdown",
      "metadata": {
        "id": "eDcnmk60kqPy"
      },
      "source": [
        "<div style=\"text-align:center;\"><img style=\"width: 100%;\" src=\"https://github.com/paulmunozpauta//ML_course_IUPWARE2025/blob/main/notebooks/static/imgs/FileZilla_download.png?raw=1\"></div>"
      ]
    },
    {
      "cell_type": "markdown",
      "metadata": {
        "id": "sk2zUzCikqPy"
      },
      "source": [
        "## Start FileZilla"
      ]
    },
    {
      "cell_type": "markdown",
      "metadata": {
        "id": "wbKML_XwkqPy"
      },
      "source": [
        "<div style=\"text-align:center;\"><img style=\"width: 100%;\" src=\"https://github.com/paulmunozpauta//ML_course_IUPWARE2025/blob/main/notebooks/static/imgs/FileZilla.png?raw=1\"></div>"
      ]
    },
    {
      "cell_type": "markdown",
      "metadata": {
        "id": "GSD446S8kqPz"
      },
      "source": [
        "# PERSIANN Data Source"
      ]
    },
    {
      "cell_type": "markdown",
      "metadata": {
        "id": "btKYBE69kqPz"
      },
      "source": [
        "<div style=\"text-align:center;\"><img style=\"width: 100%;\" src=\"https://github.com/paulmunozpauta//ML_course_IUPWARE2025/blob/main/notebooks/static/imgs/PERSIANN_head.png?raw=1\"></div>"
      ]
    },
    {
      "cell_type": "markdown",
      "metadata": {
        "id": "AyblOL-CkqPz"
      },
      "source": [
        "Website: http://chrs.web.uci.edu"
      ]
    },
    {
      "cell_type": "markdown",
      "metadata": {
        "id": "BaDTfWA9kqPz"
      },
      "source": [
        "Available Subproducts:\n",
        "- PERSIANN\n",
        "- PERSIANN-CCS\n",
        "- PERSIANN-CDR\n",
        "- PERSIANN-IDR"
      ]
    },
    {
      "cell_type": "markdown",
      "metadata": {
        "id": "Y0X16BKykqPz"
      },
      "source": [
        "We will focus on the subproduct with the finest spatial/temporal resolution, **PERSIANN-CCS**.\n",
        "\n",
        "**PERSIANN-CCS** uses satellite images to analyze clouds and predict precipitation worldwide. It was developed at the University of California, Irvine.\n",
        "\n",
        "The precipitation estimation principle is highly detailed, analyzing the height of clouds and their coverage area. Unlike other methods, PERSIANN-CCS can identify individual clouds and provide specific information about them. This helps determine how much precipitation is falling in different regions. All this information is available in real time and can be easily downloaded."
      ]
    },
    {
      "cell_type": "markdown",
      "metadata": {
        "id": "ZjsBls_TkqPz"
      },
      "source": [
        "In summary:\n",
        "\n",
        "- **Data Period**: 2003 - present.\n",
        "- **Coverage**: From 60°S to 60°N.\n",
        "- **Resolution**: 0.04° x 0.04°, approximately 4.4 x 4.4 km per pixel.\n",
        "- **Available Data**: Every 1 hour, 3 hours, 6 hours, daily, monthly, annually.\n",
        "- **Latency**: Almost real-time (~2 hours)."
      ]
    },
    {
      "cell_type": "markdown",
      "metadata": {
        "id": "3ZNiws5GkqPz"
      },
      "source": [
        "## Connect to the PERSIANN Data Repository"
      ]
    },
    {
      "cell_type": "markdown",
      "metadata": {
        "id": "5BT8SXHnkqPz"
      },
      "source": [
        "Enter the following information:"
      ]
    },
    {
      "cell_type": "markdown",
      "metadata": {
        "id": "G3FIDezJkqPz"
      },
      "source": [
        "- **Protocol**: FTP - File Transfer Protocol  \n",
        "- **Host**: persiann.eng.uci.edu  \n",
        "- **Logon Type**: Anonymous  "
      ]
    },
    {
      "cell_type": "markdown",
      "metadata": {
        "id": "JeeRR1hIkqPz"
      },
      "source": [
        "<div style=\"text-align:center;\"><img style=\"width: 60%;\" src=\"https://github.com/paulmunozpauta//ML_course_IUPWARE2025/blob/main/notebooks/static/imgs/FTP_PERSIANN.png?raw=1\"></div>"
      ]
    },
    {
      "cell_type": "markdown",
      "metadata": {
        "id": "5Ufb05wvkqPz"
      },
      "source": [
        "Upon connecting, you will have remote access to the PERSIANN data folder."
      ]
    },
    {
      "cell_type": "markdown",
      "metadata": {
        "id": "EqoWQPmpkqPz"
      },
      "source": [
        "<div style=\"text-align:center;\"><img style=\"width: 100%;\" src=\"https://github.com/paulmunozpauta//ML_course_IUPWARE2025/blob/main/notebooks/static/imgs/Filezilla_PERSIANN_CCS.png?raw=1\"></div>"
      ]
    },
    {
      "cell_type": "markdown",
      "metadata": {
        "id": "kJrd5u0dkqPz"
      },
      "source": [
        "## Download Data from the PERSIANN-CCS Repository"
      ]
    },
    {
      "cell_type": "markdown",
      "metadata": {
        "id": "kvAwwnm3kqPz"
      },
      "source": [
        "Click derecho en la carpeta/archivo que queremos descargar en la carpeta local"
      ]
    },
    {
      "cell_type": "markdown",
      "metadata": {
        "id": "Nljl35sZkqPz"
      },
      "source": [
        "<div style=\"text-align:center;\"><img style=\"width: 100%;\" src=\"https://github.com/paulmunozpauta//ML_course_IUPWARE2025/blob/main/notebooks/static/imgs/Filezilla_local.png?raw=1\"></div>"
      ]
    },
    {
      "cell_type": "markdown",
      "metadata": {
        "id": "HBf4un9okqPz"
      },
      "source": [
        "We now have PERSIANN-CCS precipitation files."
      ]
    },
    {
      "cell_type": "markdown",
      "metadata": {
        "id": "A_CerOVhkqPz"
      },
      "source": [
        "## Visualize Data on the Platform\n",
        "\n",
        "Access the data visualization platform using the following link:\n",
        "\n",
        "[https://chrsdata.eng.uci.edu](https://chrsdata.eng.uci.edu)"
      ]
    },
    {
      "cell_type": "markdown",
      "metadata": {
        "id": "8h9Lb_EDkqPz"
      },
      "source": [
        "## Open a PERSIANN-CCS file"
      ]
    },
    {
      "cell_type": "markdown",
      "metadata": {
        "id": "As4vDKGMkqP0"
      },
      "source": [
        "Import the necessary libraries:"
      ]
    },
    {
      "cell_type": "code",
      "execution_count": null,
      "metadata": {
        "scrolled": true,
        "id": "EN5YeHVVkqP0"
      },
      "outputs": [],
      "source": [
        "import gzip\n",
        "import descartes\n",
        "import pickle\n",
        "import numpy as np\n",
        "from shapely.geometry import mapping\n",
        "import geopandas as gpd\n",
        "import os\n",
        "import glob\n",
        "import rasterio\n",
        "import rioxarray\n",
        "import xarray as xr\n",
        "import matplotlib.pyplot as plt\n",
        "from datetime import datetime, timedelta\n",
        "import datetime\n",
        "import calendar\n",
        "import pandas as pd\n",
        "from scipy import signal\n",
        "import pickle\n",
        "import h5py\n",
        "def JulianDate_to_MMDDYYY(y,jd):\n",
        "    month = 1\n",
        "    day = 0\n",
        "    while jd - calendar.monthrange(y,month)[1] > 0 and month <= 12:\n",
        "        jd = jd - calendar.monthrange(y,month)[1]\n",
        "        month = month + 1\n",
        "    return jd, month\n",
        "\n",
        "def getLine(data, line_no):\n",
        "    n = 0\n",
        "    lastPos = -1\n",
        "    for i in range(0, len(data) - 1):\n",
        "        if data[i] == \"\\n\":\n",
        "            n = n + 1\n",
        "            if n == line_no:\n",
        "                return data[lastPos + 1:i]\n",
        "            else:\n",
        "                lastPos = i;\n",
        "\n",
        "    if(n == line_no - 1):\n",
        "        return data[lastPos + 1:]\n",
        "    return \"\""
      ]
    },
    {
      "cell_type": "markdown",
      "metadata": {
        "id": "nomhtcMSkqP0"
      },
      "source": [
        "Define the project folder where PERSIANN-CCS data is saved"
      ]
    },
    {
      "cell_type": "code",
      "execution_count": null,
      "metadata": {
        "id": "qdxdGDJCkqP0"
      },
      "outputs": [],
      "source": [
        "folder = os.getcwd()\n",
        "folder"
      ]
    },
    {
      "cell_type": "code",
      "execution_count": null,
      "metadata": {
        "id": "uC9C2f7kkqP0"
      },
      "outputs": [],
      "source": [
        "folder_files= folder+'/notebooks/data/PERSIANN-CCS/Hourly/Global/2023/'\n",
        "folder_files"
      ]
    },
    {
      "cell_type": "markdown",
      "metadata": {
        "id": "8CFN7icekqP1"
      },
      "source": [
        "Define the name of a file for reading"
      ]
    },
    {
      "cell_type": "code",
      "execution_count": null,
      "metadata": {
        "id": "hyQEgVCgkqP1"
      },
      "outputs": [],
      "source": [
        "item=folder_files+'rgccs1h2301500.bin.gz'\n",
        "item"
      ]
    },
    {
      "cell_type": "markdown",
      "source": [
        "'rgccs1h2301500.bin.gz' is a binary zipped file whose name coding indicates:\n",
        "- 1h: hourly data\n",
        "- 23: year 2023\n",
        "- 015: day 15 of the year\n",
        "- 00: data corresponding yo 00 hours (24-hour format)"
      ],
      "metadata": {
        "id": "ZY0gxuxfQW0x"
      }
    },
    {
      "cell_type": "markdown",
      "metadata": {
        "id": "dJ1ibFzGkqP1"
      },
      "source": [
        "Reading the file"
      ]
    },
    {
      "cell_type": "code",
      "execution_count": null,
      "metadata": {
        "id": "LBO0c9MpkqP1"
      },
      "outputs": [],
      "source": [
        "f = gzip.GzipFile(item)\n",
        "file_content = f.read()\n",
        "data = np.frombuffer(file_content, dtype=np.dtype('>h')).astype(float)\n",
        "data = data.reshape((3000,9000))\n",
        "data_1 = data[:,4500:]\n",
        "data_2 = data[:,:4500]\n",
        "data = np.hstack((data_1,data_2))\n",
        "data= data/100\n",
        "data[data < 0] = np.nan\n",
        "data = np.flipud(data)"
      ]
    },
    {
      "cell_type": "code",
      "execution_count": null,
      "metadata": {
        "id": "uTJmxUaSkqP1"
      },
      "outputs": [],
      "source": [
        "data"
      ]
    },
    {
      "cell_type": "markdown",
      "metadata": {
        "id": "nvAMIifCkqP1"
      },
      "source": [
        "Georeferencing the data matrix"
      ]
    },
    {
      "cell_type": "code",
      "execution_count": null,
      "metadata": {
        "id": "KGgvKRXHkqP1"
      },
      "outputs": [],
      "source": [
        "lon=np.arange(-180,180,0.04)\n",
        "lat=np.arange(60,-60,-0.04)\n",
        "data = xr.DataArray(data=data, dims=[\"lat\", \"lon\"], coords=[lat,lon])\n",
        "data.rio.set_spatial_dims(x_dim=\"lon\", y_dim=\"lat\", inplace=True)\n",
        "data"
      ]
    },
    {
      "cell_type": "markdown",
      "metadata": {
        "id": "lGH-uLMqkqP1"
      },
      "source": [
        "Plot the georeferenced global precipitation file"
      ]
    },
    {
      "cell_type": "code",
      "execution_count": null,
      "metadata": {
        "scrolled": true,
        "id": "GNGJa9RokqP1"
      },
      "outputs": [],
      "source": [
        "# Load the world map correctly\n",
        "world = gpd.read_file(gpd.datasets.get_path('naturalearth_lowres'))\n",
        "# Create figure and axis\n",
        "fig, ax = plt.subplots(figsize=(10, 10))\n",
        "# Plot world boundaries\n",
        "world.boundary.plot(ax=ax, color='white', linewidth=0.5)\n",
        "# Plot the data\n",
        "max_val = data.max()\n",
        "im = ax.imshow(data, cmap='cividis', vmin=0.1, vmax=int(max_val), extent=[-180, 180, -90, 90])\n",
        "# Set aspect ratio\n",
        "ax.set_aspect('equal')\n",
        "# Add title and labels\n",
        "plt.title(\"Global precipitation PERSIANN-CCS\")\n",
        "cbar = plt.colorbar(im, ax=ax, orientation='horizontal')\n",
        "cbar.set_label('Precipitation (mm)')\n",
        "plt.xlabel(\"Longitude\")\n",
        "plt.ylabel(\"Latitude\")\n",
        "# Show the plot\n",
        "plt.show()"
      ]
    },
    {
      "cell_type": "markdown",
      "metadata": {
        "id": "G3O8CQvTkqP2"
      },
      "source": [
        "Extract basic statistics from the data:"
      ]
    },
    {
      "cell_type": "code",
      "execution_count": null,
      "metadata": {
        "id": "45JrJhHokqP2"
      },
      "outputs": [],
      "source": [
        "print('Maximum precipitation = ',data.max().values,'mm')\n",
        "print('Average precipitation = ',data.mean().values,'mm')\n",
        "print('Minimum precipitation = ',data.min().values,'mm')"
      ]
    },
    {
      "cell_type": "markdown",
      "metadata": {
        "id": "gleFgZsvkqP2"
      },
      "source": [
        "Load the shapefile of a hydrological system:\n",
        "- For example, a mountain catchment in Ecuador, South America"
      ]
    },
    {
      "cell_type": "code",
      "execution_count": null,
      "metadata": {
        "id": "avxy9MpSkqP2"
      },
      "outputs": [],
      "source": [
        "data.rio.write_crs(\"epsg:4326\", inplace=True)\n",
        "catchment_shp_1 = gpd.read_file(folder+'/notebooks/shapefiles/Catchment_SA.shp')"
      ]
    },
    {
      "cell_type": "markdown",
      "metadata": {
        "id": "15uDSRW4kqP2"
      },
      "source": [
        "Display the catchment"
      ]
    },
    {
      "cell_type": "code",
      "execution_count": null,
      "metadata": {
        "id": "b-71aK0GkqP2"
      },
      "outputs": [],
      "source": [
        "catchment_shp_1.plot()"
      ]
    },
    {
      "cell_type": "markdown",
      "source": [],
      "metadata": {
        "id": "fdIB3Jc4S2IH"
      }
    },
    {
      "cell_type": "code",
      "source": [
        "import folium\n",
        "# Convert to WGS 84 (if needed)\n",
        "if catchment_shp_1.crs != \"EPSG:4326\":\n",
        "    catchment_shp_1 = catchment_shp_1.to_crs(epsg=4326)\n",
        "centroid = catchment_shp_1.geometry.centroid.iloc[0]\n",
        "map_center = [centroid.y, centroid.x]\n",
        "# Create a folium map centered on the catchment area\n",
        "m = folium.Map(location=map_center, zoom_start=10)\n",
        "# Add the catchment boundaries to the map\n",
        "folium.GeoJson(catchment_shp_1, name=\"Catchment\").add_to(m)\n",
        "# Display the map\n",
        "m"
      ],
      "metadata": {
        "id": "OPbpgSHzS2tG"
      },
      "execution_count": null,
      "outputs": []
    },
    {
      "cell_type": "markdown",
      "source": [
        "Area of the catchment (polygon)"
      ],
      "metadata": {
        "id": "04tORv0JPQzs"
      }
    },
    {
      "cell_type": "code",
      "source": [
        "catchment_shp_1[\"Area_m2\"] = catchment_shp_1.geometry.area\n",
        "catchment_shp_1[\"Area_km2\"] = catchment_shp_1[\"Area_m2\"] / 1e6\n",
        "catchment_shp_1[\"Area_km2\"]"
      ],
      "metadata": {
        "id": "PfokpHnsO-h5"
      },
      "execution_count": null,
      "outputs": []
    },
    {
      "cell_type": "markdown",
      "metadata": {
        "id": "xXAoCLffkqP2"
      },
      "source": [
        "Clip the global precipitation data to the catchment"
      ]
    },
    {
      "cell_type": "code",
      "execution_count": null,
      "metadata": {
        "id": "qZUb37o-kqP2"
      },
      "outputs": [],
      "source": [
        "data_catchment_1 = data.rio.clip(catchment_shp_1.geometry.apply(mapping),catchment_shp_1.crs,all_touched=True)"
      ]
    },
    {
      "cell_type": "markdown",
      "metadata": {
        "id": "09iuTAMNkqP2"
      },
      "source": [
        "Mostrar la precipitación de la cuenca del río Tomebamba"
      ]
    },
    {
      "cell_type": "code",
      "execution_count": null,
      "metadata": {
        "id": "QajlQCtkkqP2"
      },
      "outputs": [],
      "source": [
        "fig = plt.subplots(figsize=(8,8))\n",
        "plt.imshow(data_catchment_1,cmap='cividis',vmin=0.1,vmax=10)\n",
        "plt.title(\"PERSIANN-CCS precipitation\")\n",
        "plt.colorbar(label='Precipitation (mm)')\n",
        "plt.xlabel(\"Longitude\")\n",
        "plt.ylabel(\"Latitude\")\n",
        "plt.show()"
      ]
    },
    {
      "cell_type": "markdown",
      "metadata": {
        "id": "Y13ttG6FkqP2"
      },
      "source": [
        "Basic precipitation statistics for the catchment"
      ]
    },
    {
      "cell_type": "code",
      "execution_count": null,
      "metadata": {
        "id": "nrKoCBafkqP2"
      },
      "outputs": [],
      "source": [
        "print('Maximum precipitation = ',data_catchment_1.max().values,'mm')\n",
        "print('Average precipitation= ',data_catchment_1.mean().values,'mm')\n",
        "print('Minimum precipitation = ',data_catchment_1.min().values,'mm')"
      ]
    },
    {
      "cell_type": "markdown",
      "metadata": {
        "id": "6PV5ybldkqP3"
      },
      "source": [
        "Now, for another catchment\n",
        "- Coastal catchment in Ecuador"
      ]
    },
    {
      "cell_type": "code",
      "execution_count": null,
      "metadata": {
        "id": "YsiYlPMskqP3"
      },
      "outputs": [],
      "source": [
        "catchment_shp_2 = gpd.read_file(folder+'/notebooks/shapefiles/Coastal_catchment.geojson')\n",
        "catchment_shp_2.plot()"
      ]
    },
    {
      "cell_type": "markdown",
      "source": [
        "Let's take a look at the catchment in South America"
      ],
      "metadata": {
        "id": "a1p5_fv5Stmd"
      }
    },
    {
      "cell_type": "code",
      "source": [
        "# Convert to WGS 84 (if needed)\n",
        "if catchment_shp_2.crs != \"EPSG:4326\":\n",
        "    catchment_shp_2 = catchment_shp_2.to_crs(epsg=4326)\n",
        "centroid = catchment_shp_2.geometry.centroid.iloc[0]\n",
        "map_center = [centroid.y, centroid.x]\n",
        "# Create a folium map centered on the catchment area\n",
        "m = folium.Map(location=map_center, zoom_start=10)\n",
        "# Add the catchment boundaries to the map\n",
        "folium.GeoJson(catchment_shp_2, name=\"Catchment\").add_to(m)\n",
        "# Display the map\n",
        "m"
      ],
      "metadata": {
        "id": "YI7uOwhBR8ME"
      },
      "execution_count": null,
      "outputs": []
    },
    {
      "cell_type": "markdown",
      "source": [
        "Area of the catchment (polygon)"
      ],
      "metadata": {
        "id": "kAPhOmEhPel9"
      }
    },
    {
      "cell_type": "code",
      "source": [
        "# Convert to the correct UTM Zone (update based on location), reprojection for accurate calculations\n",
        "catchment_shp_2 = catchment_shp_2.to_crs(epsg=32717)  # UTM Zone 17S (Western Ecuador)\n",
        "catchment_shp_2[\"Area_m2\"] = catchment_shp_2.geometry.area\n",
        "catchment_shp_2[\"Area_km2\"] = catchment_shp_2[\"Area_m2\"] / 1e6\n",
        "catchment_shp_2[\"Area_km2\"]"
      ],
      "metadata": {
        "id": "WR7j7W1zPfM8"
      },
      "execution_count": null,
      "outputs": []
    },
    {
      "cell_type": "markdown",
      "metadata": {
        "id": "sy1TUyx2kqP3"
      },
      "source": [
        "Clip the global precipitation data to the coastal catchment"
      ]
    },
    {
      "cell_type": "code",
      "execution_count": null,
      "metadata": {
        "scrolled": true,
        "id": "-7gud4xOkqP3"
      },
      "outputs": [],
      "source": [
        "data_catchment_2 = data.rio.clip(catchment_shp_2.geometry.apply(mapping),catchment_shp_2.crs,all_touched=True)"
      ]
    },
    {
      "cell_type": "markdown",
      "metadata": {
        "id": "r1bTv-PFkqP3"
      },
      "source": [
        "Mostrar la precipitación en la cuenca"
      ]
    },
    {
      "cell_type": "code",
      "execution_count": null,
      "metadata": {
        "id": "A_9cwWVHkqP3"
      },
      "outputs": [],
      "source": [
        "fig = plt.subplots(figsize=(8,8))\n",
        "plt.imshow(data_catchment_2,cmap='cividis',vmin=0.1,vmax=33)\n",
        "plt.title(\"PERSIANN-CCS precipitation\")\n",
        "plt.colorbar(label='Precipitation (mm)')\n",
        "plt.xlabel(\"Longitude\")\n",
        "plt.ylabel(\"Latitude\")\n",
        "plt.show()"
      ]
    },
    {
      "cell_type": "markdown",
      "metadata": {
        "id": "Ldo9o6h0kqP3"
      },
      "source": [
        "Basic precipitation statistics for the coastal catchment"
      ]
    },
    {
      "cell_type": "code",
      "execution_count": null,
      "metadata": {
        "id": "FZyYp9_BkqP3"
      },
      "outputs": [],
      "source": [
        "print('Maximum precipitation = ',data_catchment_2.max().values,'mm')\n",
        "print('Average precipitation= ',data_catchment_2.mean().values,'mm')\n",
        "print('Minimum precipitation = ',data_catchment_2.min().values,'mm')"
      ]
    },
    {
      "cell_type": "markdown",
      "metadata": {
        "id": "DWGEH6n0kqP3"
      },
      "source": [
        "**Now read all the downloaded precipitation files in the folder**"
      ]
    },
    {
      "cell_type": "markdown",
      "metadata": {
        "id": "phvYKzlokqP3"
      },
      "source": [
        "Create a list for the downloaded files"
      ]
    },
    {
      "cell_type": "code",
      "execution_count": null,
      "metadata": {
        "id": "B43NijNUkqP3"
      },
      "outputs": [],
      "source": [
        "folder_files\n",
        "file_extension = \"*.bin.gz\"\n",
        "list_of_Files = glob.glob(os.path.join(folder_files, file_extension))\n",
        "list_of_Files = [file_name for file_name in list_of_Files if not file_name.startswith('.DS_Store')]\n",
        "list_of_Files.sort()"
      ]
    },
    {
      "cell_type": "markdown",
      "metadata": {
        "id": "_Dh_VZ-PkqP3"
      },
      "source": [
        "Display the list"
      ]
    },
    {
      "cell_type": "code",
      "execution_count": null,
      "metadata": {
        "id": "BML-TORykqP3"
      },
      "outputs": [],
      "source": [
        "list_of_Files[:10]"
      ]
    },
    {
      "cell_type": "markdown",
      "metadata": {
        "id": "7eSncKJIkqP3"
      },
      "source": [
        "Read the files, one by one, and calculate the accumulated precipitation. Data  folder contains the first 15 days of January 2023"
      ]
    },
    {
      "cell_type": "code",
      "execution_count": null,
      "metadata": {
        "id": "qLfd9aHrkqP3"
      },
      "outputs": [],
      "source": [
        "data_sum = xr.DataArray(data=np.empty((3000, 9000)), dims=[\"lat\", \"lon\"])\n",
        "for index, item in enumerate(list_of_Files):\n",
        "    print(index+1, 'out of', len(list_of_Files))\n",
        "    f=gzip.GzipFile(item)\n",
        "    try:\n",
        "        file_content = f.read()\n",
        "    except (IOError, EOFError) as e:\n",
        "        continue\n",
        "    data = np.frombuffer(file_content, dtype=np.dtype('>h')).astype(float)\n",
        "    data = data.reshape((3000,9000))\n",
        "    data_1 = data[:,4500:]\n",
        "    data_2 = data[:,:4500]\n",
        "    data = np.hstack((data_1,data_2))\n",
        "    data= data/100\n",
        "    data[data < 0] = np.nan\n",
        "    data = np.flipud(data)\n",
        "    data = xr.DataArray(data=data, dims=[\"lat\", \"lon\"], coords=[lat,lon])\n",
        "    data_sum+=data"
      ]
    },
    {
      "cell_type": "code",
      "execution_count": null,
      "metadata": {
        "id": "qaAdRNBykqP3"
      },
      "outputs": [],
      "source": [
        "data_sum"
      ]
    },
    {
      "cell_type": "markdown",
      "metadata": {
        "id": "-Co9GIRckqP3"
      },
      "source": [
        "- Georeference the data\n",
        "- Clip the accumulated satellite precipitation to the catchment shapefile (Mountain catchment)"
      ]
    },
    {
      "cell_type": "code",
      "execution_count": null,
      "metadata": {
        "id": "W3rYpmZxkqP3"
      },
      "outputs": [],
      "source": [
        "data_sum.rio.set_spatial_dims(x_dim=\"lon\", y_dim=\"lat\", inplace=True)\n",
        "data_sum.rio.write_crs(\"epsg:4326\", inplace=True)\n",
        "data_catchment_1 = data_sum.rio.clip(catchment_shp_1.geometry.apply(mapping),catchment_shp_1.crs,all_touched=True)"
      ]
    },
    {
      "cell_type": "markdown",
      "metadata": {
        "id": "4ag6dEndkqP3"
      },
      "source": [
        "- Plot the data.\n",
        "- Display basic statistics."
      ]
    },
    {
      "cell_type": "code",
      "execution_count": null,
      "metadata": {
        "id": "qmVMZge7kqP3"
      },
      "outputs": [],
      "source": [
        "fig = plt.subplots(figsize=(8,8))\n",
        "plt.imshow(data_catchment_1,cmap='cividis',vmin=0.1,vmax=150)\n",
        "plt.title(\"PERSIANN-CCS precipitation\")\n",
        "plt.colorbar(label='Precipitation (mm)')\n",
        "plt.xlabel(\"Longitude\")\n",
        "plt.ylabel(\"Latitude\")\n",
        "plt.show()\n",
        "print('Maximum precipitación = ',data_catchment_1.max().values,'mm')\n",
        "print('Average precipitación = ',data_catchment_1.mean().values,'mm')\n",
        "print('Minimum precipitación = ',data_catchment_1.min().values,'mm')"
      ]
    },
    {
      "cell_type": "markdown",
      "metadata": {
        "id": "IkU70EEakqP4"
      },
      "source": [
        "Now for the coastal catchment"
      ]
    },
    {
      "cell_type": "code",
      "execution_count": null,
      "metadata": {
        "id": "AJ1uZv2ykqP4"
      },
      "outputs": [],
      "source": [
        "data_catchment_2 = data_sum.rio.clip(catchment_shp_2.geometry.apply(mapping),catchment_shp_2.crs,all_touched=True)\n",
        "fig = plt.subplots(figsize=(8,8))\n",
        "plt.imshow(data_catchment_2,cmap='cividis',vmin=0.1,vmax=150)\n",
        "plt.title(\"PERSIANN-CCS precipitation\")\n",
        "plt.colorbar(label='Precipitation (mm)')\n",
        "plt.xlabel(\"Longitude\")\n",
        "plt.ylabel(\"Latitude\")\n",
        "plt.show()\n",
        "print('Maximum precipitación = ',np.round(data_catchment_2.max().values,2),'mm')\n",
        "print('Average precipitación = ',np.round(data_catchment_2.mean().values,2),'mm')\n",
        "print('Minimum precipitación = ',np.round(data_catchment_2.min().values,2),'mm')"
      ]
    },
    {
      "cell_type": "markdown",
      "metadata": {
        "id": "t-77Gy1pkqP4"
      },
      "source": [
        "Generate a dataFrame with precipitation time series (for each pixel):\n",
        "\n",
        "- Example: In the mountain catchment, time series for January 1, 2023."
      ]
    },
    {
      "cell_type": "code",
      "execution_count": null,
      "metadata": {
        "scrolled": false,
        "id": "5htLsbjJkqP4"
      },
      "outputs": [],
      "source": [
        "dataset_list = []  # Store data frames for concatenation later\n",
        "for index, item in enumerate(list_of_Files[:24]):\n",
        "    print(index + 1, 'out of', len(list_of_Files[:24]))\n",
        "\n",
        "    try:\n",
        "        with gzip.GzipFile(item, 'rb') as f:\n",
        "            file_content = f.read()\n",
        "    except (IOError, EOFError):\n",
        "        continue  # Skip to next file if there's an error\n",
        "\n",
        "    data = np.frombuffer(file_content, dtype=np.dtype('>h')).astype(float)  # Convert to float\n",
        "    data = data.reshape((3000, 9000))\n",
        "    # Splitting and rearranging data\n",
        "    data_1 = data[:, 4500:]\n",
        "    data_2 = data[:, :4500]\n",
        "    data = np.hstack((data_1, data_2))\n",
        "    data = data / 100  # Scale values\n",
        "    data[data < 0] = np.nan  # Replace negative values with NaN\n",
        "    data = np.flipud(data)  # Flip vertically\n",
        "    # Convert to xarray DataArray\n",
        "    data = xr.DataArray(data=data, dims=[\"lat\", \"lon\"], coords=[lat, lon])\n",
        "    data.rio.set_spatial_dims(x_dim=\"lon\", y_dim=\"lat\", inplace=True)\n",
        "    data.rio.write_crs(\"epsg:4326\", inplace=True)\n",
        "    # Clip the data using the catchment shape\n",
        "    data = data.rio.clip(catchment_shp_1.geometry.apply(mapping), catchment_shp_1.crs, all_touched=True)\n",
        "    data = data.values.flatten()\n",
        "    # Extract date from filename\n",
        "    date_att = str(item)\n",
        "    year = int('20' + str(date_att[-14:-12]))\n",
        "    julian_day = int(str(date_att[-12:-9]))\n",
        "    day, month = JulianDate_to_MMDDYYY(year, julian_day)\n",
        "    hour = int(str(date_att[-9:-7]))\n",
        "    date = datetime.datetime(year, month, day, hour, 0, 0)\n",
        "    # Convert data to DataFrame\n",
        "    data = pd.DataFrame(data)\n",
        "    data = data.dropna()\n",
        "    data = data.T\n",
        "    data.index = pd.DatetimeIndex([date])  # Set datetime index\n",
        "    dataset_list.append(data)  # Append to the list\n",
        "# Concatenate all DataFrames\n",
        "if dataset_list:\n",
        "    dataset = pd.concat(dataset_list)"
      ]
    },
    {
      "cell_type": "markdown",
      "metadata": {
        "id": "XHt5ja3UkqP4"
      },
      "source": [
        "- Preprocess the information\n",
        "- Remove duplicate data"
      ]
    },
    {
      "cell_type": "code",
      "execution_count": null,
      "metadata": {
        "id": "mAvG_MDIkqP4"
      },
      "outputs": [],
      "source": [
        "dataset.shape"
      ]
    },
    {
      "cell_type": "code",
      "execution_count": null,
      "metadata": {
        "id": "b7aAp1AIkqP4"
      },
      "outputs": [],
      "source": [
        "dataset = dataset.sort_index()\n",
        "dataset = dataset[~dataset.index.duplicated(keep='first')]\n",
        "dataset"
      ]
    },
    {
      "cell_type": "markdown",
      "metadata": {
        "id": "5Q2LrKT4kqP4"
      },
      "source": [
        "Export this information in **CSV** format"
      ]
    },
    {
      "cell_type": "code",
      "execution_count": null,
      "metadata": {
        "id": "SFecNAlhkqP4"
      },
      "outputs": [],
      "source": [
        "dataset.to_csv(folder_files+\"PERSIANN-CCS_UTC_Catchment_1.csv\", index=True)"
      ]
    },
    {
      "cell_type": "markdown",
      "metadata": {
        "id": "tozWRTnPkqP4"
      },
      "source": [
        "Plot the extracted satellite precipitation"
      ]
    },
    {
      "cell_type": "code",
      "execution_count": null,
      "metadata": {
        "id": "7rBLTVoWkqP4"
      },
      "outputs": [],
      "source": [
        "fig, ax = plt.subplots(figsize=(10,5))\n",
        "dataset.plot(kind='bar', ax=ax)\n",
        "ax.legend(title='Legend Title')\n",
        "plt.ylabel('Satellite precipitation (mm)')\n",
        "plt.legend(loc='upper center', bbox_to_anchor=(0.5, -0.6), ncol=6)\n",
        "plt.show()"
      ]
    },
    {
      "cell_type": "markdown",
      "metadata": {
        "id": "ZpGfX7-PkqP4"
      },
      "source": [
        "Calculate and plot the accumulated precipitation"
      ]
    },
    {
      "cell_type": "code",
      "execution_count": null,
      "metadata": {
        "id": "noLfiy5QkqP4"
      },
      "outputs": [],
      "source": [
        "fig, ax = plt.subplots(figsize=(10,5))\n",
        "dataset.cumsum().plot(ax=ax)\n",
        "ax.legend(title='Legend Title')\n",
        "plt.ylabel('Accumulated precipitation (mm)')\n",
        "plt.legend(loc='upper center', bbox_to_anchor=(0.5, -0.3), ncol=6)\n",
        "plt.show()"
      ]
    },
    {
      "cell_type": "markdown",
      "metadata": {
        "id": "j_O7AzmdkqP4"
      },
      "source": [
        "# IMERG satellite precipitation"
      ]
    },
    {
      "cell_type": "markdown",
      "metadata": {
        "id": "3z2sz8RrkqP4"
      },
      "source": [
        "Website: [https://gpm.nasa.gov/data/imerg](https://gpm.nasa.gov/data/imerg)\n",
        "\n",
        "## Available Subproducts:\n",
        "- **Early Run**\n",
        "- **Late Run**\n",
        "- **Final Run**\n",
        "\n",
        "We will focus on the subproduct with the finest spatial/temporal resolution, **IMERG-Early Run**."
      ]
    },
    {
      "cell_type": "markdown",
      "metadata": {
        "id": "QznlZKTskqP4"
      },
      "source": [
        "## Prior registration to download IMERG data"
      ]
    },
    {
      "cell_type": "markdown",
      "metadata": {
        "id": "64GWrBPIkqP5"
      },
      "source": [
        "To access and download IMERG data, prior registration is required. Follow these steps:"
      ]
    },
    {
      "cell_type": "markdown",
      "metadata": {
        "id": "qIRqJAfekqP5"
      },
      "source": [
        "https://registration.pps.eosdis.nasa.gov/registration/newContact.html"
      ]
    },
    {
      "cell_type": "markdown",
      "metadata": {
        "id": "r2Tq2ghtkqP5"
      },
      "source": [
        "<div style=\"text-align:center;\"><img style=\"width: 100%;\" src=\"https://github.com/paulmunozpauta//ML_course_IUPWARE2025/blob/main/notebooks/static/imgs/IMERG_registration.png?raw=1\"></div>\n"
      ]
    },
    {
      "cell_type": "markdown",
      "metadata": {
        "id": "ZPXWIS2-kqP5"
      },
      "source": [
        "Once registered, confirm your account via the email verification link.  "
      ]
    },
    {
      "cell_type": "markdown",
      "metadata": {
        "id": "YPVC9DXYkqP5"
      },
      "source": [
        "## Connect to the IMERG data repository"
      ]
    },
    {
      "cell_type": "markdown",
      "metadata": {
        "id": "szHzBmHykqP5"
      },
      "source": [
        "Enter the following information to connect to the IMERG FTP server:\n",
        "\n",
        "- **Protocol:** FTP - File Transfer Protocol  \n",
        "- **Host:** `jsimpsonftps.pps.eosdis.nasa.gov`  \n",
        "- **Logon Type:** Normal  \n",
        "  - Enter your **username** and **password** from your NASA Earthdata account.\n",
        "\n",
        "Once connected, navigate to the desired directory to access IMERG data."
      ]
    },
    {
      "cell_type": "markdown",
      "metadata": {
        "id": "EmyFdyRUkqP5"
      },
      "source": [
        "<div style=\"text-align:center;\"><img style=\"width: 100%;\" src=\"https://github.com/paulmunozpauta//ML_course_IUPWARE2025/blob/main/notebooks/static/imgs/IMERG_FTP.png?raw=1\"></div>"
      ]
    },
    {
      "cell_type": "markdown",
      "metadata": {
        "id": "_ixKb46EkqP5"
      },
      "source": [
        "Upon connecting, you gain remote access to the IMERG data folder.  \n",
        "\n",
        "From here, you can navigate through the directories to locate and download the desired datasets."
      ]
    },
    {
      "cell_type": "markdown",
      "metadata": {
        "id": "ucCRYpRxkqP5"
      },
      "source": [
        "<div style=\"text-align:center;\"><img style=\"width: 100%;\" src=\"https://github.com/paulmunozpauta//ML_course_IUPWARE2025/blob/main/notebooks/static/imgs/IMERG_server.png?raw=1\"></div>"
      ]
    },
    {
      "cell_type": "markdown",
      "metadata": {
        "id": "7SZHJ46UkqP5"
      },
      "source": [
        "## Download data from the IMERG-Early Run repository\n"
      ]
    },
    {
      "cell_type": "markdown",
      "metadata": {
        "id": "DLRZh2JhkqP5"
      },
      "source": [
        "Right-click on the folder/file you want to download and select **\"Download\"** to save it to your local directory.  "
      ]
    },
    {
      "cell_type": "markdown",
      "metadata": {
        "id": "9GoaIqJjkqP5"
      },
      "source": [
        "## Open an IMERG precipitation file"
      ]
    },
    {
      "cell_type": "markdown",
      "metadata": {
        "id": "TZShKqKzkqP5"
      },
      "source": [
        "Define IMERG-ER data folder"
      ]
    },
    {
      "cell_type": "code",
      "execution_count": null,
      "metadata": {
        "id": "tTYz9MF2kqP5"
      },
      "outputs": [],
      "source": [
        "folder = os.getcwd()\n",
        "folder_files= folder+'/notebooks/data/IMERG-ER/Hourly/Global/202301/'\n",
        "folder_files"
      ]
    },
    {
      "cell_type": "markdown",
      "metadata": {
        "id": "HTMo1C9ZkqP5"
      },
      "source": [
        "Create a list of precipitation files. Data contains satellite precipittaion for January 31, 2023."
      ]
    },
    {
      "cell_type": "code",
      "execution_count": null,
      "metadata": {
        "id": "wnbb9c-2kqP5"
      },
      "outputs": [],
      "source": [
        "list_of_Files = glob.glob(folder_files + '/*H5')\n",
        "list_of_Files.sort()"
      ]
    },
    {
      "cell_type": "markdown",
      "metadata": {
        "id": "E_GVLD69kqP5"
      },
      "source": [
        "Display the list"
      ]
    },
    {
      "cell_type": "code",
      "execution_count": null,
      "metadata": {
        "id": "rDgaQmNVkqP5"
      },
      "outputs": [],
      "source": [
        "list_of_Files"
      ]
    },
    {
      "cell_type": "markdown",
      "metadata": {
        "id": "aUP3KBNkkqP5"
      },
      "source": [
        "Define the path of a file for reading."
      ]
    },
    {
      "cell_type": "code",
      "execution_count": null,
      "metadata": {
        "id": "Cu9oZikKkqP5"
      },
      "outputs": [],
      "source": [
        "item=folder_files+'3B-HHR-E.MS.MRG.3IMERG.20230131-S000000-E002959.0000.V06C.RT-H5'\n",
        "item"
      ]
    },
    {
      "cell_type": "markdown",
      "source": [
        "The name coding '3B-HHR-E.MS.MRG.3IMERG.20230131-S000000-E002959.0000.V06C.RT-H5' indicates:\n",
        "- 3B-HHR-E.MS.MRG.3IMERG: product information\n",
        "- 20230131: YearMonthDay\n",
        "- S000000: start of scan (hhmmss)\n",
        "- E002959: end of scan (hhmmss)"
      ],
      "metadata": {
        "id": "gI4_U9BXUwVi"
      }
    },
    {
      "cell_type": "markdown",
      "metadata": {
        "id": "PRgshfY1kqP5"
      },
      "source": [
        "Open a single precipitation file."
      ]
    },
    {
      "cell_type": "code",
      "execution_count": null,
      "metadata": {
        "id": "63-q1GSQkqP5"
      },
      "outputs": [],
      "source": [
        "data = h5py.File( item, 'r' )\n",
        "precip = data['/Grid/precipitationCal'][:]\n",
        "precip = np.flip( precip[0,:,:].transpose(), axis=0 )"
      ]
    },
    {
      "cell_type": "markdown",
      "metadata": {
        "id": "V-D9H7aUkqP5"
      },
      "source": [
        "Display the read data matrix."
      ]
    },
    {
      "cell_type": "code",
      "execution_count": null,
      "metadata": {
        "id": "2GKsU-mMkqP6"
      },
      "outputs": [],
      "source": [
        "precip"
      ]
    },
    {
      "cell_type": "markdown",
      "metadata": {
        "id": "pnOehe3zkqP6"
      },
      "source": [
        "Basic statistics"
      ]
    },
    {
      "cell_type": "code",
      "execution_count": null,
      "metadata": {
        "id": "JmgZfgdlkqP6"
      },
      "outputs": [],
      "source": [
        "print('Maximum precipitation = ',precip.max(),'mm')\n",
        "print('Average precipitation = ',precip.mean(),'mm')\n",
        "print('Minimum precipitation = ',precip.min(),'mm')"
      ]
    },
    {
      "cell_type": "markdown",
      "metadata": {
        "id": "haFDMo13kqP6"
      },
      "source": [
        "Display the global precipitation information."
      ]
    },
    {
      "cell_type": "code",
      "execution_count": null,
      "metadata": {
        "id": "8Wu61Xz6kqP6"
      },
      "outputs": [],
      "source": [
        "fig, ax = plt.subplots(figsize=(10, 10))\n",
        "im = ax.imshow(precip, vmin=-1, vmax=80, extent=[-180, 180, -90, 90])\n",
        "cbar = plt.colorbar(im, orientation='horizontal')\n",
        "cbar.set_label('millimeters/hour')\n",
        "for lon in np.arange(-90, 90+1, 90):\n",
        "    plt.plot((lon, lon), (-90, +90), color=\"black\", linewidth=1)\n",
        "for lat in np.arange(-60, 60+1, 30):\n",
        "    plt.plot((-180, +180), (lat, lat), color=\"black\", linewidth=1)\n",
        "plt.show()"
      ]
    },
    {
      "cell_type": "markdown",
      "metadata": {
        "id": "LYdQ4RfckqP6"
      },
      "source": [
        "Georeference and clip the global precipitation data to the mountain catchment"
      ]
    },
    {
      "cell_type": "code",
      "execution_count": null,
      "metadata": {
        "id": "7s7MDtZ_kqP6"
      },
      "outputs": [],
      "source": [
        "precip"
      ]
    },
    {
      "cell_type": "code",
      "execution_count": null,
      "metadata": {
        "id": "MZ1bcqnikqP6"
      },
      "outputs": [],
      "source": [
        "lat = data['/Grid/lat'][:]\n",
        "lon = data['/Grid/lon'][:]\n",
        "catchment_shp_1 = gpd.read_file(folder+'/notebooks/shapefiles/Catchment_SA.shp')\n",
        "data = xr.DataArray(data=precip, dims=[\"lat\", \"lon\"], coords=[lat,lon])\n",
        "data.rio.set_spatial_dims(x_dim=\"lon\", y_dim=\"lat\", inplace=True)\n",
        "data.rio.write_crs(\"epsg:4326\", inplace=True)\n",
        "data_catchment_1= data.rio.clip(catchment_shp_1.geometry.apply(mapping),catchment_shp_1.crs,all_touched=True)"
      ]
    },
    {
      "cell_type": "markdown",
      "metadata": {
        "id": "xi9Z-nHGkqP6"
      },
      "source": [
        "Plot the precipitation for the mountain catchment"
      ]
    },
    {
      "cell_type": "code",
      "execution_count": null,
      "metadata": {
        "id": "ZWA3ZTj7kqP6"
      },
      "outputs": [],
      "source": [
        "fig = plt.subplots(figsize=(8,8))\n",
        "data_catchment_1.plot(cmap='cividis',vmin=0,vmax=0.01)\n",
        "plt.title(\"IMERG-ER precipitation\")\n",
        "plt.xlabel(\"Longitude\")\n",
        "plt.ylabel(\"Latitude\")\n",
        "plt.show()"
      ]
    },
    {
      "cell_type": "markdown",
      "metadata": {
        "id": "qq8Z9XZskqP6"
      },
      "source": [
        "Basic statistics"
      ]
    },
    {
      "cell_type": "code",
      "execution_count": null,
      "metadata": {
        "id": "QqYaJJOEkqP6"
      },
      "outputs": [],
      "source": [
        "print('Maximum precipitation = ', np.round(data_catchment_1.max().values,2),'mm')\n",
        "print('Average precipitation = ', np.round(data_catchment_1.mean().values,2),'mm')\n",
        "print('Minimum precipitation = ', np.round(data_catchment_1.min().values,2),'mm')"
      ]
    },
    {
      "cell_type": "markdown",
      "metadata": {
        "id": "f5FWvu2NkqP6"
      },
      "source": [
        "Plot the precipitation for the coastal catchment"
      ]
    },
    {
      "cell_type": "code",
      "execution_count": null,
      "metadata": {
        "id": "hODvJwrvkqP6"
      },
      "outputs": [],
      "source": [
        "catchment_shp_2 = gpd.read_file(folder+'/notebooks/shapefiles/Coastal_catchment.geojson')\n",
        "data_catchment_2 = data.rio.clip(catchment_shp_2.geometry.apply(mapping),catchment_shp_2.crs,all_touched=True)\n",
        "fig = plt.subplots(figsize=(8,8))\n",
        "data_catchment_2.plot(cmap='cividis',vmin=0,vmax=5)\n",
        "plt.title(\"Precipitación Global IMERG-ER\")\n",
        "plt.xlabel(\"Longitude\")\n",
        "plt.ylabel(\"Latitude\")\n",
        "plt.show()\n",
        "print('Maximum precipitation = ', np.round(data_catchment_2.max().values,2),'mm')\n",
        "print('Average precipitation = ', np.round(data_catchment_2.mean().values,2),'mm')\n",
        "print('Minimum precipitation = ', np.round(data_catchment_2.min().values,2),'mm')"
      ]
    },
    {
      "cell_type": "markdown",
      "metadata": {
        "id": "hCh0MgNrkqP6"
      },
      "source": [
        "Read and process all IMERG-ER files. in the folder"
      ]
    },
    {
      "cell_type": "markdown",
      "metadata": {
        "id": "Zh1T36lNkqP6"
      },
      "source": [
        "Display the list"
      ]
    },
    {
      "cell_type": "code",
      "execution_count": null,
      "metadata": {
        "id": "d22kDpiPkqP6"
      },
      "outputs": [],
      "source": [
        "list_of_Files"
      ]
    },
    {
      "cell_type": "markdown",
      "metadata": {
        "id": "2em9aSWSkqP7"
      },
      "source": [
        "Accumulate precipitation"
      ]
    },
    {
      "cell_type": "code",
      "execution_count": null,
      "metadata": {
        "id": "mXxT5r8nkqP7"
      },
      "outputs": [],
      "source": [
        "data_sum = xr.DataArray(data=np.empty((1800, 3600)), dims=[\"lat\", \"lon\"])\n",
        "for index, item in enumerate(list_of_Files):\n",
        "    print(index+1, 'out of', len(list_of_Files))\n",
        "    try:\n",
        "        data = h5py.File(item, 'r')\n",
        "        precip = data['/Grid/precipitationCal'][:]\n",
        "        precip[precip < 0] = np.nan\n",
        "        precip = np.flip(precip[0,:,:].transpose(), axis=0)\n",
        "        theLats = data['Grid/lat'][:]\n",
        "        theLons = data['Grid/lon'][:]\n",
        "        x, y = np.meshgrid(theLons, theLats)\n",
        "\n",
        "        precip = xr.DataArray(precip, dims=('lat', 'lon'), coords={'lat' : theLats, 'lon' : theLons})\n",
        "\n",
        "        data_sum += precip\n",
        "\n",
        "        data.close()\n",
        "\n",
        "    except (IOError, EOFError) as e:\n",
        "        continue"
      ]
    },
    {
      "cell_type": "markdown",
      "metadata": {
        "id": "Uf3hZAVkkqP7"
      },
      "source": [
        "Plot the accumulated precipitation information for January 31, 2023."
      ]
    },
    {
      "cell_type": "code",
      "execution_count": null,
      "metadata": {
        "id": "b1dkO3-JkqP7"
      },
      "outputs": [],
      "source": [
        "fig, ax = plt.subplots(figsize=(10, 10))\n",
        "im = ax.imshow(data_sum, vmin=-1, vmax=1400, extent=[-180, 180, -90, 90])\n",
        "cbar = plt.colorbar(im, orientation='horizontal')\n",
        "cbar.set_label('millimeters/hour')\n",
        "\n",
        "for lon in np.arange(-90, 90+1, 90):\n",
        "    plt.plot((lon, lon), (-90, +90), color=\"black\", linewidth=1)\n",
        "for lat in np.arange(-60, 60+1, 30):\n",
        "    plt.plot((-180, +180), (lat, lat), color=\"black\", linewidth=1)\n",
        "\n",
        "plt.show()"
      ]
    },
    {
      "cell_type": "markdown",
      "metadata": {
        "id": "5VouLBTKkqP7"
      },
      "source": [
        "Clip that information to the mountain catchment"
      ]
    },
    {
      "cell_type": "code",
      "execution_count": null,
      "metadata": {
        "id": "DzS90lh8kqP7"
      },
      "outputs": [],
      "source": [
        "data_sum.rio.set_spatial_dims(x_dim=\"lon\", y_dim=\"lat\", inplace=True)\n",
        "data_sum.rio.write_crs(\"epsg:4326\", inplace=True)\n",
        "data_sum_catchment_1= data_sum.rio.clip(catchment_shp_1.geometry.apply(mapping),catchment_shp_1.crs,all_touched=True)\n",
        "data_sum_catchment_1"
      ]
    },
    {
      "cell_type": "code",
      "execution_count": null,
      "metadata": {
        "id": "YhBzOXRbkqP7"
      },
      "outputs": [],
      "source": [
        "fig = plt.subplots(figsize=(8,8))\n",
        "data_sum_catchment_1.plot(cmap='cividis',vmin=0,vmax=16)\n",
        "plt.title(\"IMERG-ER precipitation\")\n",
        "plt.xlabel(\"Longitude\")\n",
        "plt.ylabel(\"Latitude\")\n",
        "plt.show()\n",
        "print('Maximum precipitación = ', np.round(data_sum_catchment_1.max().values,2),'mm')\n",
        "print('Average precipitación = ', np.round(data_sum_catchment_1.mean().values,2),'mm')\n",
        "print('Minimum precipitation = ', np.round(data_sum_catchment_1.min().values,2),'mm')"
      ]
    },
    {
      "cell_type": "markdown",
      "metadata": {
        "id": "Icvtk4hnkqP7"
      },
      "source": [
        "Now for the coastal catchment"
      ]
    },
    {
      "cell_type": "code",
      "execution_count": null,
      "metadata": {
        "id": "S_0U_xO_kqP7"
      },
      "outputs": [],
      "source": [
        "data_sum = xr.DataArray(data_sum, dims=('lat', 'lon'), coords={'lat' : theLats, 'lon' : theLons})\n",
        "data_sum.rio.set_spatial_dims(x_dim=\"lon\", y_dim=\"lat\", inplace=True)\n",
        "data_sum.rio.write_crs(\"epsg:4326\", inplace=True)\n",
        "data_sum_catchment_2= data_sum.rio.clip(catchment_shp_2.geometry.apply(mapping),catchment_shp_2.crs,all_touched=True)\n",
        "fig = plt.subplots(figsize=(8,8))\n",
        "data_sum_catchment_2.plot(cmap='cividis',vmin=0,vmax=9)\n",
        "plt.title(\"IMERG-ER precipitation\")\n",
        "plt.xlabel(\"Longitude\")\n",
        "plt.ylabel(\"Latitude\")\n",
        "plt.show()\n",
        "print('Maximum precipitation = ', np.round(data_sum_catchment_2.max().values,2),'mm')\n",
        "print('Average precipitation = ', np.round(data_sum_catchment_2.mean().values,2),'mm')\n",
        "print('Minimum precipitation = ', np.round(data_sum_catchment_2.min().values,2),'mm')"
      ]
    },
    {
      "cell_type": "markdown",
      "metadata": {
        "id": "1_9pqWCckqP7"
      },
      "source": [
        "Generate a database with precipitation time series (pixels) for the mountain catchment"
      ]
    },
    {
      "cell_type": "code",
      "execution_count": null,
      "metadata": {
        "id": "bVbhgMEBkqP7"
      },
      "outputs": [],
      "source": [
        "dataset_list = []  # List to store DataFrames for concatenation later\n",
        "for index, item in enumerate(list_of_Files):\n",
        "    print(index + 1, 'out of', len(list_of_Files))\n",
        "    try:\n",
        "        with h5py.File(item, 'r') as data:\n",
        "            precip = data['/Grid/precipitationCal'][:]\n",
        "    except (IOError, EOFError):\n",
        "        continue  # Skip file if there's an error\n",
        "    precip[precip < 0] = np.nan  # Replace negative values with NaN\n",
        "    precip = np.flip(precip[0, :, :].transpose(), axis=0)  # Flip and transpose\n",
        "    # Convert to xarray DataArray\n",
        "    precip = xr.DataArray(precip, dims=('lat', 'lon'), coords={'lat': theLats, 'lon': theLons})\n",
        "    precip.rio.set_spatial_dims(x_dim=\"lon\", y_dim=\"lat\", inplace=True)\n",
        "    precip.rio.write_crs(\"epsg:4326\", inplace=True)\n",
        "    # Clip the data using the catchment shape\n",
        "    precip = precip.rio.clip(catchment_shp_1.geometry.apply(mapping), catchment_shp_1.crs, all_touched=True)\n",
        "    precip = precip.values.flatten()\n",
        "    # Extract date from filename\n",
        "    year = int(item[-40:-36])\n",
        "    month = int(item[-36:-34])\n",
        "    day = int(item[-34:-32])\n",
        "    hour = int(item[-22:-20])\n",
        "    minute = int(item[-20:-18])\n",
        "    date = datetime.datetime(year, month, day, hour, minute, 0)\n",
        "    # Convert data to DataFrame\n",
        "    data = pd.DataFrame(precip)\n",
        "    data = data.dropna()\n",
        "    data = data.T\n",
        "    data.index = pd.DatetimeIndex([date])  # Set datetime index\n",
        "    dataset_list.append(data)  # Append DataFrame to list\n",
        "# Concatenate all DataFrames at the end\n",
        "if dataset_list:\n",
        "    dataset = pd.concat(dataset_list)\n",
        "# Resample dataset, treating NaNs as zeros\n",
        "dataset = dataset.resample('h', label='right', closed='right').sum().fillna(0)"
      ]
    },
    {
      "cell_type": "markdown",
      "metadata": {
        "id": "Tkwf_ESRkqP7"
      },
      "source": [
        "Display dataframe"
      ]
    },
    {
      "cell_type": "code",
      "execution_count": null,
      "metadata": {
        "id": "YRbnF39mkqP7"
      },
      "outputs": [],
      "source": [
        "dataset"
      ]
    },
    {
      "cell_type": "markdown",
      "metadata": {
        "id": "RuO26C2_kqP7"
      },
      "source": [
        "Export the dataframe to csv"
      ]
    },
    {
      "cell_type": "code",
      "execution_count": null,
      "metadata": {
        "id": "UleJrKPEkqP7"
      },
      "outputs": [],
      "source": [
        "dataset.to_csv(folder_files+\"IMERG-ER_UTC_Catchment_1.csv\", index=True)"
      ]
    },
    {
      "cell_type": "markdown",
      "metadata": {
        "id": "4FThQ3cFkqP7"
      },
      "source": [
        "Plot the precipitation time series."
      ]
    },
    {
      "cell_type": "code",
      "execution_count": null,
      "metadata": {
        "id": "2buG2Z9akqP7"
      },
      "outputs": [],
      "source": [
        "fig, ax = plt.subplots(figsize=(10,5))\n",
        "dataset.plot(kind='bar', ax=ax)\n",
        "ax.legend(title='Legend Title')\n",
        "plt.ylabel('Precipitation_satellite (mm)')\n",
        "plt.legend(loc='upper center', bbox_to_anchor=(0.5, -0.6), ncol=7)\n",
        "plt.show()"
      ]
    },
    {
      "cell_type": "markdown",
      "metadata": {
        "id": "hg_q30t8kqP8"
      },
      "source": [
        "Plot the accumulated precipitation"
      ]
    },
    {
      "cell_type": "code",
      "execution_count": null,
      "metadata": {
        "id": "JAdxYz1-kqP8"
      },
      "outputs": [],
      "source": [
        "fig, ax = plt.subplots(figsize=(10,5))\n",
        "dataset.cumsum().plot( ax=ax)\n",
        "ax.legend(title='Legend Title')\n",
        "plt.ylabel('Precipitation_satellite (mm)')\n",
        "plt.legend(loc='upper center', bbox_to_anchor=(0.5, -0.6), ncol=7)\n",
        "plt.show()"
      ]
    },
    {
      "cell_type": "markdown",
      "metadata": {
        "id": "dKs6l3hSkqP8"
      },
      "source": [
        "Do the same for the coastal catchment"
      ]
    },
    {
      "cell_type": "code",
      "execution_count": null,
      "metadata": {
        "id": "cvdH3m4GkqP8"
      },
      "outputs": [],
      "source": [
        "dataset_list = []  # Store data frames for concatenation later\n",
        "for index, item in enumerate(list_of_Files):\n",
        "    print(index + 1, 'out of', len(list_of_Files))\n",
        "    try:\n",
        "        with h5py.File(item, 'r') as data:\n",
        "            precip = data['/Grid/precipitationCal'][:]\n",
        "    except (IOError, EOFError):\n",
        "        continue  # Skip to next file if there's an error\n",
        "    precip[precip < 0] = np.nan  # Replace negative values with NaN\n",
        "    precip = np.flip(precip[0, :, :].transpose(), axis=0)  # Flip and transpose\n",
        "    # Convert to xarray DataArray\n",
        "    precip = xr.DataArray(precip, dims=('lat', 'lon'), coords={'lat': theLats, 'lon': theLons})\n",
        "    precip.rio.set_spatial_dims(x_dim=\"lon\", y_dim=\"lat\", inplace=True)\n",
        "    precip.rio.write_crs(\"epsg:4326\", inplace=True)\n",
        "    # Clip the data using the catchment shape\n",
        "    precip = precip.rio.clip(catchment_shp_2.geometry.apply(mapping), catchment_shp_2.crs, all_touched=True)\n",
        "    precip = precip.values.flatten()\n",
        "    # Extract date from filename\n",
        "    year = int(item[-40:-36])\n",
        "    month = int(item[-36:-34])\n",
        "    day = int(item[-34:-32])\n",
        "    hour = int(item[-22:-20])\n",
        "    minute = int(item[-20:-18])\n",
        "    date = datetime.datetime(year, month, day, hour, minute, 0)\n",
        "    # Convert to DataFrame\n",
        "    data = pd.DataFrame(precip)\n",
        "    data = data.dropna()\n",
        "    data = data.T\n",
        "    data.index = pd.DatetimeIndex([date])  # Set datetime index\n",
        "    dataset_list.append(data)  # Append to the list\n",
        "# Concatenate all DataFrames\n",
        "if dataset_list:\n",
        "    dataset = pd.concat(dataset_list)\n",
        "# Resample dataset\n",
        "dataset = dataset.resample('h', label='right', closed='right').sum()"
      ]
    },
    {
      "cell_type": "markdown",
      "metadata": {
        "id": "kiFq1Z8qkqP8"
      },
      "source": [
        "Display the dataframe"
      ]
    },
    {
      "cell_type": "code",
      "execution_count": null,
      "metadata": {
        "id": "DiMrxe3zkqP8"
      },
      "outputs": [],
      "source": [
        "dataset"
      ]
    },
    {
      "cell_type": "markdown",
      "metadata": {
        "id": "ng1i9OznkqP8"
      },
      "source": [
        "Export the dataframe to csv"
      ]
    },
    {
      "cell_type": "code",
      "execution_count": null,
      "metadata": {
        "id": "KM6MQ70XkqP8"
      },
      "outputs": [],
      "source": [
        "dataset.to_csv(folder_files+\"IMERG-ER_UTC_Catchment_2.csv\", index=True)"
      ]
    },
    {
      "cell_type": "markdown",
      "metadata": {
        "id": "JlNQrZXQkqP8"
      },
      "source": [
        "Plot the precipitation time series."
      ]
    },
    {
      "cell_type": "code",
      "execution_count": null,
      "metadata": {
        "id": "EMhnVGJSkqP8"
      },
      "outputs": [],
      "source": [
        "fig, ax = plt.subplots(figsize=(10,5))\n",
        "dataset.plot(kind='bar', ax=ax)\n",
        "ax.legend(title='Legend Title')\n",
        "plt.ylabel('Precipitation_satellite (mm)')\n",
        "plt.legend(loc='upper center', bbox_to_anchor=(0.5, -0.6), ncol=9)\n",
        "plt.show()"
      ]
    },
    {
      "cell_type": "markdown",
      "metadata": {
        "id": "Iibe5hOJkqP8"
      },
      "source": [
        "Plot the accumulated precipitation"
      ]
    },
    {
      "cell_type": "code",
      "execution_count": null,
      "metadata": {
        "scrolled": true,
        "id": "m-WXZwTdkqP8"
      },
      "outputs": [],
      "source": [
        "fig, ax = plt.subplots(figsize=(10,5))\n",
        "dataset.cumsum().plot( ax=ax)\n",
        "ax.legend(title='Legend Title')\n",
        "plt.ylabel('Precipitation_satellite (mm)')\n",
        "plt.legend(loc='upper center', bbox_to_anchor=(0.5, -0.6), ncol=9)\n",
        "plt.show()"
      ]
    }
  ],
  "metadata": {
    "kernelspec": {
      "display_name": "Python 3 (ipykernel)",
      "language": "python",
      "name": "python3"
    },
    "language_info": {
      "codemirror_mode": {
        "name": "ipython",
        "version": 3
      },
      "file_extension": ".py",
      "mimetype": "text/x-python",
      "name": "python",
      "nbconvert_exporter": "python",
      "pygments_lexer": "ipython3",
      "version": "3.11.11"
    },
    "colab": {
      "provenance": []
    }
  },
  "nbformat": 4,
  "nbformat_minor": 0
}